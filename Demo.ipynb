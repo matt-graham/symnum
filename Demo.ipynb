{
 "cells": [
  {
   "cell_type": "code",
   "execution_count": 1,
   "metadata": {},
   "outputs": [],
   "source": [
    "import symnum\n",
    "import symnum.diffops.symbolic as sym_diffops\n",
    "import symnum.numpy as snp\n",
    "import numpy as np\n",
    "import multiprocessing"
   ]
  },
  {
   "cell_type": "code",
   "execution_count": 2,
   "metadata": {},
   "outputs": [],
   "source": [
    "y = snp.array([1, 0])\n",
    "σ = 1\n",
    "\n",
    "def forward_func(x):\n",
    "    return snp.array([[1, -1], [-2, 2]]) @ snp.array(\n",
    "        [snp.cos(-x[1]**2 + 3 * x[0]), snp.sin(x[0] - 1)])\n",
    "\n",
    "def neg_log_dens(x):\n",
    "    return (\n",
    "        snp.sum((y - forward_func(x))**2 / σ**2) + \n",
    "        snp.sum(x**2)) / 2"
   ]
  },
  {
   "cell_type": "markdown",
   "metadata": {},
   "source": [
    "## Symbolic evaluation and derivatives"
   ]
  },
  {
   "cell_type": "code",
   "execution_count": 3,
   "metadata": {},
   "outputs": [],
   "source": [
    "x = symnum.named_array('x', 2)\n",
    "v = symnum.named_array('v', 2)\n",
    "m = symnum.named_array('m', (2, 2))"
   ]
  },
  {
   "cell_type": "code",
   "execution_count": 4,
   "metadata": {},
   "outputs": [
    {
     "data": {
      "text/latex": [
       "$\\displaystyle \\left[\\begin{matrix}- \\sin{\\left(x[0] - 1 \\right)} + \\cos{\\left(3 x[0] - x[1]^{2} \\right)} & 2 \\sin{\\left(x[0] - 1 \\right)} - 2 \\cos{\\left(3 x[0] - x[1]^{2} \\right)}\\end{matrix}\\right]$"
      ],
      "text/plain": [
       "SymbolicArray([-sin(x[0] - 1) + cos(3*x[0] - x[1]**2), 2*sin(x[0] - 1) - 2*cos(3*x[0] - x[1]**2)], dtype=None)"
      ]
     },
     "execution_count": 4,
     "metadata": {},
     "output_type": "execute_result"
    }
   ],
   "source": [
    "forward_func(x)"
   ]
  },
  {
   "cell_type": "code",
   "execution_count": 5,
   "metadata": {},
   "outputs": [
    {
     "data": {
      "text/latex": [
       "$\\displaystyle \\left[\\begin{matrix}- 3 \\sin{\\left(3 x[0] - x[1]^{2} \\right)} - \\cos{\\left(x[0] - 1 \\right)} & 2 x[1] \\sin{\\left(3 x[0] - x[1]^{2} \\right)}\\\\6 \\sin{\\left(3 x[0] - x[1]^{2} \\right)} + 2 \\cos{\\left(x[0] - 1 \\right)} & - 4 x[1] \\sin{\\left(3 x[0] - x[1]^{2} \\right)}\\end{matrix}\\right]$"
      ],
      "text/plain": [
       "SymbolicArray([[-3*sin(3*x[0] - x[1]**2) - cos(x[0] - 1), 2*x[1]*sin(3*x[0] - x[1]**2)], [6*sin(3*x[0] - x[1]**2) + 2*cos(x[0] - 1), -4*x[1]*sin(3*x[0] - x[1]**2)]], dtype=float64)"
      ]
     },
     "execution_count": 5,
     "metadata": {},
     "output_type": "execute_result"
    }
   ],
   "source": [
    "sym_diffops.jacobian(forward_func)(x)"
   ]
  },
  {
   "cell_type": "code",
   "execution_count": 6,
   "metadata": {},
   "outputs": [
    {
     "data": {
      "text/latex": [
       "$\\displaystyle \\left[\\begin{matrix}v[0] \\left(- 3 \\sin{\\left(3 x[0] - x[1]^{2} \\right)} - \\cos{\\left(x[0] - 1 \\right)}\\right) + v[1] \\left(6 \\sin{\\left(3 x[0] - x[1]^{2} \\right)} + 2 \\cos{\\left(x[0] - 1 \\right)}\\right) & 2 v[0] x[1] \\sin{\\left(3 x[0] - x[1]^{2} \\right)} - 4 v[1] x[1] \\sin{\\left(3 x[0] - x[1]^{2} \\right)}\\end{matrix}\\right]$"
      ],
      "text/plain": [
       "SymbolicArray([v[0]*(-3*sin(3*x[0] - x[1]**2) - cos(x[0] - 1)) + v[1]*(6*sin(3*x[0] - x[1]**2) + 2*cos(x[0] - 1)), 2*v[0]*x[1]*sin(3*x[0] - x[1]**2) - 4*v[1]*x[1]*sin(3*x[0] - x[1]**2)], dtype=float64)"
      ]
     },
     "execution_count": 6,
     "metadata": {},
     "output_type": "execute_result"
    }
   ],
   "source": [
    "sym_diffops.vector_jacobian_product(forward_func)(x)(v)"
   ]
  },
  {
   "cell_type": "code",
   "execution_count": 7,
   "metadata": {},
   "outputs": [
    {
     "data": {
      "text/latex": [
       "$\\displaystyle \\left[\\begin{matrix}v[0] \\left(- 3 \\sin{\\left(3 x[0] - x[1]^{2} \\right)} - \\cos{\\left(x[0] - 1 \\right)}\\right) + 2 v[1] x[1] \\sin{\\left(3 x[0] - x[1]^{2} \\right)} & v[0] \\left(6 \\sin{\\left(3 x[0] - x[1]^{2} \\right)} + 2 \\cos{\\left(x[0] - 1 \\right)}\\right) - 4 v[1] x[1] \\sin{\\left(3 x[0] - x[1]^{2} \\right)}\\end{matrix}\\right]$"
      ],
      "text/plain": [
       "SymbolicArray([v[0]*(-3*sin(3*x[0] - x[1]**2) - cos(x[0] - 1)) + 2*v[1]*x[1]*sin(3*x[0] - x[1]**2), v[0]*(6*sin(3*x[0] - x[1]**2) + 2*cos(x[0] - 1)) - 4*v[1]*x[1]*sin(3*x[0] - x[1]**2)], dtype=float64)"
      ]
     },
     "execution_count": 7,
     "metadata": {},
     "output_type": "execute_result"
    }
   ],
   "source": [
    "sym_diffops.jacobian_vector_product(forward_func)(x)(v)"
   ]
  },
  {
   "cell_type": "code",
   "execution_count": 8,
   "metadata": {},
   "outputs": [
    {
     "data": {
      "text/latex": [
       "$\\displaystyle \\left[\\begin{matrix}m[0, 0] \\left(\\sin{\\left(x[0] - 1 \\right)} - 9 \\cos{\\left(3 x[0] - x[1]^{2} \\right)}\\right) + 6 m[0, 1] x[1] \\cos{\\left(3 x[0] - x[1]^{2} \\right)} + m[1, 0] \\left(- 2 \\sin{\\left(x[0] - 1 \\right)} + 18 \\cos{\\left(3 x[0] - x[1]^{2} \\right)}\\right) - 12 m[1, 1] x[1] \\cos{\\left(3 x[0] - x[1]^{2} \\right)} & 6 m[0, 0] x[1] \\cos{\\left(3 x[0] - x[1]^{2} \\right)} + m[0, 1] \\left(- 4 x[1]^{2} \\cos{\\left(3 x[0] - x[1]^{2} \\right)} + 2 \\sin{\\left(3 x[0] - x[1]^{2} \\right)}\\right) - 12 m[1, 0] x[1] \\cos{\\left(3 x[0] - x[1]^{2} \\right)} + m[1, 1] \\left(8 x[1]^{2} \\cos{\\left(3 x[0] - x[1]^{2} \\right)} - 4 \\sin{\\left(3 x[0] - x[1]^{2} \\right)}\\right)\\end{matrix}\\right]$"
      ],
      "text/plain": [
       "SymbolicArray([m[0, 0]*(sin(x[0] - 1) - 9*cos(3*x[0] - x[1]**2)) + 6*m[0, 1]*x[1]*cos(3*x[0] - x[1]**2) + m[1, 0]*(-2*sin(x[0] - 1) + 18*cos(3*x[0] - x[1]**2)) - 12*m[1, 1]*x[1]*cos(3*x[0] - x[1]**2), 6*m[0, 0]*x[1]*cos(3*x[0] - x[1]**2) + m[0, 1]*(-4*x[1]**2*cos(3*x[0] - x[1]**2) + 2*sin(3*x[0] - x[1]**2)) - 12*m[1, 0]*x[1]*cos(3*x[0] - x[1]**2) + m[1, 1]*(8*x[1]**2*cos(3*x[0] - x[1]**2) - 4*sin(3*x[0] - x[1]**2))], dtype=float64)"
      ]
     },
     "execution_count": 8,
     "metadata": {},
     "output_type": "execute_result"
    }
   ],
   "source": [
    "sym_diffops.matrix_hessian_product(forward_func)(x)(m)"
   ]
  },
  {
   "cell_type": "code",
   "execution_count": 9,
   "metadata": {},
   "outputs": [
    {
     "data": {
      "text/latex": [
       "$\\displaystyle \\frac{x[0]^{2}}{2} + \\frac{x[1]^{2}}{2} + \\frac{\\left(- 2 \\sin{\\left(x[0] - 1 \\right)} + 2 \\cos{\\left(3 x[0] - x[1]^{2} \\right)}\\right)^{2}}{2} + \\frac{\\left(\\sin{\\left(x[0] - 1 \\right)} - \\cos{\\left(3 x[0] - x[1]^{2} \\right)} + 1\\right)^{2}}{2}$"
      ],
      "text/plain": [
       "x[0]**2/2 + x[1]**2/2 + (-2*sin(x[0] - 1) + 2*cos(3*x[0] - x[1]**2))**2/2 + (sin(x[0] - 1) - cos(3*x[0] - x[1]**2) + 1)**2/2"
      ]
     },
     "execution_count": 9,
     "metadata": {},
     "output_type": "execute_result"
    }
   ],
   "source": [
    "neg_log_dens(x)"
   ]
  },
  {
   "cell_type": "code",
   "execution_count": 10,
   "metadata": {},
   "outputs": [
    {
     "data": {
      "text/latex": [
       "$\\displaystyle \\left[\\begin{matrix}x[0] + \\frac{\\left(- 2 \\sin{\\left(x[0] - 1 \\right)} + 2 \\cos{\\left(3 x[0] - x[1]^{2} \\right)}\\right) \\left(- 12 \\sin{\\left(3 x[0] - x[1]^{2} \\right)} - 4 \\cos{\\left(x[0] - 1 \\right)}\\right)}{2} + \\frac{\\left(6 \\sin{\\left(3 x[0] - x[1]^{2} \\right)} + 2 \\cos{\\left(x[0] - 1 \\right)}\\right) \\left(\\sin{\\left(x[0] - 1 \\right)} - \\cos{\\left(3 x[0] - x[1]^{2} \\right)} + 1\\right)}{2} & 4 x[1] \\left(- 2 \\sin{\\left(x[0] - 1 \\right)} + 2 \\cos{\\left(3 x[0] - x[1]^{2} \\right)}\\right) \\sin{\\left(3 x[0] - x[1]^{2} \\right)} - 2 x[1] \\left(\\sin{\\left(x[0] - 1 \\right)} - \\cos{\\left(3 x[0] - x[1]^{2} \\right)} + 1\\right) \\sin{\\left(3 x[0] - x[1]^{2} \\right)} + x[1]\\end{matrix}\\right]$"
      ],
      "text/plain": [
       "SymbolicArray([x[0] + (-2*sin(x[0] - 1) + 2*cos(3*x[0] - x[1]**2))*(-12*sin(3*x[0] - x[1]**2) - 4*cos(x[0] - 1))/2 + (6*sin(3*x[0] - x[1]**2) + 2*cos(x[0] - 1))*(sin(x[0] - 1) - cos(3*x[0] - x[1]**2) + 1)/2, 4*x[1]*(-2*sin(x[0] - 1) + 2*cos(3*x[0] - x[1]**2))*sin(3*x[0] - x[1]**2) - 2*x[1]*(sin(x[0] - 1) - cos(3*x[0] - x[1]**2) + 1)*sin(3*x[0] - x[1]**2) + x[1]], dtype=float64)"
      ]
     },
     "execution_count": 10,
     "metadata": {},
     "output_type": "execute_result"
    }
   ],
   "source": [
    "sym_diffops.grad(neg_log_dens)(x)"
   ]
  },
  {
   "cell_type": "code",
   "execution_count": 11,
   "metadata": {},
   "outputs": [
    {
     "data": {
      "text/latex": [
       "$\\displaystyle \\left[\\begin{matrix}\\frac{\\left(- 2 \\sin{\\left(x[0] - 1 \\right)} + 2 \\cos{\\left(3 x[0] - x[1]^{2} \\right)}\\right) \\left(4 \\sin{\\left(x[0] - 1 \\right)} - 36 \\cos{\\left(3 x[0] - x[1]^{2} \\right)}\\right)}{2} + \\frac{\\left(- 2 \\sin{\\left(x[0] - 1 \\right)} + 18 \\cos{\\left(3 x[0] - x[1]^{2} \\right)}\\right) \\left(\\sin{\\left(x[0] - 1 \\right)} - \\cos{\\left(3 x[0] - x[1]^{2} \\right)} + 1\\right)}{2} + \\frac{\\left(- 12 \\sin{\\left(3 x[0] - x[1]^{2} \\right)} - 4 \\cos{\\left(x[0] - 1 \\right)}\\right) \\left(- 6 \\sin{\\left(3 x[0] - x[1]^{2} \\right)} - 2 \\cos{\\left(x[0] - 1 \\right)}\\right)}{2} + \\frac{\\left(3 \\sin{\\left(3 x[0] - x[1]^{2} \\right)} + \\cos{\\left(x[0] - 1 \\right)}\\right) \\left(6 \\sin{\\left(3 x[0] - x[1]^{2} \\right)} + 2 \\cos{\\left(x[0] - 1 \\right)}\\right)}{2} + 1 & 12 x[1] \\left(- 2 \\sin{\\left(x[0] - 1 \\right)} + 2 \\cos{\\left(3 x[0] - x[1]^{2} \\right)}\\right) \\cos{\\left(3 x[0] - x[1]^{2} \\right)} + 4 x[1] \\left(- 6 \\sin{\\left(3 x[0] - x[1]^{2} \\right)} - 2 \\cos{\\left(x[0] - 1 \\right)}\\right) \\sin{\\left(3 x[0] - x[1]^{2} \\right)} - 2 x[1] \\left(3 \\sin{\\left(3 x[0] - x[1]^{2} \\right)} + \\cos{\\left(x[0] - 1 \\right)}\\right) \\sin{\\left(3 x[0] - x[1]^{2} \\right)} - 6 x[1] \\left(\\sin{\\left(x[0] - 1 \\right)} - \\cos{\\left(3 x[0] - x[1]^{2} \\right)} + 1\\right) \\cos{\\left(3 x[0] - x[1]^{2} \\right)}\\\\12 x[1] \\left(- 2 \\sin{\\left(x[0] - 1 \\right)} + 2 \\cos{\\left(3 x[0] - x[1]^{2} \\right)}\\right) \\cos{\\left(3 x[0] - x[1]^{2} \\right)} + 2 x[1] \\left(- 12 \\sin{\\left(3 x[0] - x[1]^{2} \\right)} - 4 \\cos{\\left(x[0] - 1 \\right)}\\right) \\sin{\\left(3 x[0] - x[1]^{2} \\right)} - x[1] \\left(6 \\sin{\\left(3 x[0] - x[1]^{2} \\right)} + 2 \\cos{\\left(x[0] - 1 \\right)}\\right) \\sin{\\left(3 x[0] - x[1]^{2} \\right)} - 6 x[1] \\left(\\sin{\\left(x[0] - 1 \\right)} - \\cos{\\left(3 x[0] - x[1]^{2} \\right)} + 1\\right) \\cos{\\left(3 x[0] - x[1]^{2} \\right)} & - 8 x[1]^{2} \\left(- 2 \\sin{\\left(x[0] - 1 \\right)} + 2 \\cos{\\left(3 x[0] - x[1]^{2} \\right)}\\right) \\cos{\\left(3 x[0] - x[1]^{2} \\right)} + 4 x[1]^{2} \\left(\\sin{\\left(x[0] - 1 \\right)} - \\cos{\\left(3 x[0] - x[1]^{2} \\right)} + 1\\right) \\cos{\\left(3 x[0] - x[1]^{2} \\right)} + 20 x[1]^{2} \\sin^{2}{\\left(3 x[0] - x[1]^{2} \\right)} + 4 \\left(- 2 \\sin{\\left(x[0] - 1 \\right)} + 2 \\cos{\\left(3 x[0] - x[1]^{2} \\right)}\\right) \\sin{\\left(3 x[0] - x[1]^{2} \\right)} - 2 \\left(\\sin{\\left(x[0] - 1 \\right)} - \\cos{\\left(3 x[0] - x[1]^{2} \\right)} + 1\\right) \\sin{\\left(3 x[0] - x[1]^{2} \\right)} + 1\\end{matrix}\\right]$"
      ],
      "text/plain": [
       "SymbolicArray([[(-2*sin(x[0] - 1) + 2*cos(3*x[0] - x[1]**2))*(4*sin(x[0] - 1) - 36*cos(3*x[0] - x[1]**2))/2 + (-2*sin(x[0] - 1) + 18*cos(3*x[0] - x[1]**2))*(sin(x[0] - 1) - cos(3*x[0] - x[1]**2) + 1)/2 + (-12*sin(3*x[0] - x[1]**2) - 4*cos(x[0] - 1))*(-6*sin(3*x[0] - x[1]**2) - 2*cos(x[0] - 1))/2 + (3*sin(3*x[0] - x[1]**2) + cos(x[0] - 1))*(6*sin(3*x[0] - x[1]**2) + 2*cos(x[0] - 1))/2 + 1, 12*x[1]*(-2*sin(x[0] - 1) + 2*cos(3*x[0] - x[1]**2))*cos(3*x[0] - x[1]**2) + 4*x[1]*(-6*sin(3*x[0] - x[1]**2) - 2*cos(x[0] - 1))*sin(3*x[0] - x[1]**2) - 2*x[1]*(3*sin(3*x[0] - x[1]**2) + cos(x[0] - 1))*sin(3*x[0] - x[1]**2) - 6*x[1]*(sin(x[0] - 1) - cos(3*x[0] - x[1]**2) + 1)*cos(3*x[0] - x[1]**2)], [12*x[1]*(-2*sin(x[0] - 1) + 2*cos(3*x[0] - x[1]**2))*cos(3*x[0] - x[1]**2) + 2*x[1]*(-12*sin(3*x[0] - x[1]**2) - 4*cos(x[0] - 1))*sin(3*x[0] - x[1]**2) - x[1]*(6*sin(3*x[0] - x[1]**2) + 2*cos(x[0] - 1))*sin(3*x[0] - x[1]**2) - 6*x[1]*(sin(x[0] - 1) - cos(3*x[0] - x[1]**2) + 1)*cos(3*x[0] - x[1]**2), -8*x[1]**2*(-2*sin(x[0] - 1) + 2*cos(3*x[0] - x[1]**2))*cos(3*x[0] - x[1]**2) + 4*x[1]**2*(sin(x[0] - 1) - cos(3*x[0] - x[1]**2) + 1)*cos(3*x[0] - x[1]**2) + 20*x[1]**2*sin(3*x[0] - x[1]**2)**2 + 4*(-2*sin(x[0] - 1) + 2*cos(3*x[0] - x[1]**2))*sin(3*x[0] - x[1]**2) - 2*(sin(x[0] - 1) - cos(3*x[0] - x[1]**2) + 1)*sin(3*x[0] - x[1]**2) + 1]], dtype=float64)"
      ]
     },
     "execution_count": 11,
     "metadata": {},
     "output_type": "execute_result"
    }
   ],
   "source": [
    "sym_diffops.hessian(neg_log_dens)(x)"
   ]
  },
  {
   "cell_type": "code",
   "execution_count": 12,
   "metadata": {},
   "outputs": [
    {
     "data": {
      "text/latex": [
       "$\\displaystyle \\left[\\begin{matrix}v[0] \\left(\\frac{\\left(- 2 \\sin{\\left(x[0] - 1 \\right)} + 2 \\cos{\\left(3 x[0] - x[1]^{2} \\right)}\\right) \\left(4 \\sin{\\left(x[0] - 1 \\right)} - 36 \\cos{\\left(3 x[0] - x[1]^{2} \\right)}\\right)}{2} + \\frac{\\left(- 2 \\sin{\\left(x[0] - 1 \\right)} + 18 \\cos{\\left(3 x[0] - x[1]^{2} \\right)}\\right) \\left(\\sin{\\left(x[0] - 1 \\right)} - \\cos{\\left(3 x[0] - x[1]^{2} \\right)} + 1\\right)}{2} + \\frac{\\left(- 12 \\sin{\\left(3 x[0] - x[1]^{2} \\right)} - 4 \\cos{\\left(x[0] - 1 \\right)}\\right) \\left(- 6 \\sin{\\left(3 x[0] - x[1]^{2} \\right)} - 2 \\cos{\\left(x[0] - 1 \\right)}\\right)}{2} + \\frac{\\left(3 \\sin{\\left(3 x[0] - x[1]^{2} \\right)} + \\cos{\\left(x[0] - 1 \\right)}\\right) \\left(6 \\sin{\\left(3 x[0] - x[1]^{2} \\right)} + 2 \\cos{\\left(x[0] - 1 \\right)}\\right)}{2} + 1\\right) + v[1] \\left(12 x[1] \\left(- 2 \\sin{\\left(x[0] - 1 \\right)} + 2 \\cos{\\left(3 x[0] - x[1]^{2} \\right)}\\right) \\cos{\\left(3 x[0] - x[1]^{2} \\right)} + 4 x[1] \\left(- 6 \\sin{\\left(3 x[0] - x[1]^{2} \\right)} - 2 \\cos{\\left(x[0] - 1 \\right)}\\right) \\sin{\\left(3 x[0] - x[1]^{2} \\right)} - 2 x[1] \\left(3 \\sin{\\left(3 x[0] - x[1]^{2} \\right)} + \\cos{\\left(x[0] - 1 \\right)}\\right) \\sin{\\left(3 x[0] - x[1]^{2} \\right)} - 6 x[1] \\left(\\sin{\\left(x[0] - 1 \\right)} - \\cos{\\left(3 x[0] - x[1]^{2} \\right)} + 1\\right) \\cos{\\left(3 x[0] - x[1]^{2} \\right)}\\right) & v[0] \\left(12 x[1] \\left(- 2 \\sin{\\left(x[0] - 1 \\right)} + 2 \\cos{\\left(3 x[0] - x[1]^{2} \\right)}\\right) \\cos{\\left(3 x[0] - x[1]^{2} \\right)} + 2 x[1] \\left(- 12 \\sin{\\left(3 x[0] - x[1]^{2} \\right)} - 4 \\cos{\\left(x[0] - 1 \\right)}\\right) \\sin{\\left(3 x[0] - x[1]^{2} \\right)} - x[1] \\left(6 \\sin{\\left(3 x[0] - x[1]^{2} \\right)} + 2 \\cos{\\left(x[0] - 1 \\right)}\\right) \\sin{\\left(3 x[0] - x[1]^{2} \\right)} - 6 x[1] \\left(\\sin{\\left(x[0] - 1 \\right)} - \\cos{\\left(3 x[0] - x[1]^{2} \\right)} + 1\\right) \\cos{\\left(3 x[0] - x[1]^{2} \\right)}\\right) + v[1] \\left(- 8 x[1]^{2} \\left(- 2 \\sin{\\left(x[0] - 1 \\right)} + 2 \\cos{\\left(3 x[0] - x[1]^{2} \\right)}\\right) \\cos{\\left(3 x[0] - x[1]^{2} \\right)} + 4 x[1]^{2} \\left(\\sin{\\left(x[0] - 1 \\right)} - \\cos{\\left(3 x[0] - x[1]^{2} \\right)} + 1\\right) \\cos{\\left(3 x[0] - x[1]^{2} \\right)} + 20 x[1]^{2} \\sin^{2}{\\left(3 x[0] - x[1]^{2} \\right)} + 4 \\left(- 2 \\sin{\\left(x[0] - 1 \\right)} + 2 \\cos{\\left(3 x[0] - x[1]^{2} \\right)}\\right) \\sin{\\left(3 x[0] - x[1]^{2} \\right)} - 2 \\left(\\sin{\\left(x[0] - 1 \\right)} - \\cos{\\left(3 x[0] - x[1]^{2} \\right)} + 1\\right) \\sin{\\left(3 x[0] - x[1]^{2} \\right)} + 1\\right)\\end{matrix}\\right]$"
      ],
      "text/plain": [
       "SymbolicArray([v[0]*((-2*sin(x[0] - 1) + 2*cos(3*x[0] - x[1]**2))*(4*sin(x[0] - 1) - 36*cos(3*x[0] - x[1]**2))/2 + (-2*sin(x[0] - 1) + 18*cos(3*x[0] - x[1]**2))*(sin(x[0] - 1) - cos(3*x[0] - x[1]**2) + 1)/2 + (-12*sin(3*x[0] - x[1]**2) - 4*cos(x[0] - 1))*(-6*sin(3*x[0] - x[1]**2) - 2*cos(x[0] - 1))/2 + (3*sin(3*x[0] - x[1]**2) + cos(x[0] - 1))*(6*sin(3*x[0] - x[1]**2) + 2*cos(x[0] - 1))/2 + 1) + v[1]*(12*x[1]*(-2*sin(x[0] - 1) + 2*cos(3*x[0] - x[1]**2))*cos(3*x[0] - x[1]**2) + 4*x[1]*(-6*sin(3*x[0] - x[1]**2) - 2*cos(x[0] - 1))*sin(3*x[0] - x[1]**2) - 2*x[1]*(3*sin(3*x[0] - x[1]**2) + cos(x[0] - 1))*sin(3*x[0] - x[1]**2) - 6*x[1]*(sin(x[0] - 1) - cos(3*x[0] - x[1]**2) + 1)*cos(3*x[0] - x[1]**2)), v[0]*(12*x[1]*(-2*sin(x[0] - 1) + 2*cos(3*x[0] - x[1]**2))*cos(3*x[0] - x[1]**2) + 2*x[1]*(-12*sin(3*x[0] - x[1]**2) - 4*cos(x[0] - 1))*sin(3*x[0] - x[1]**2) - x[1]*(6*sin(3*x[0] - x[1]**2) + 2*cos(x[0] - 1))*sin(3*x[0] - x[1]**2) - 6*x[1]*(sin(x[0] - 1) - cos(3*x[0] - x[1]**2) + 1)*cos(3*x[0] - x[1]**2)) + v[1]*(-8*x[1]**2*(-2*sin(x[0] - 1) + 2*cos(3*x[0] - x[1]**2))*cos(3*x[0] - x[1]**2) + 4*x[1]**2*(sin(x[0] - 1) - cos(3*x[0] - x[1]**2) + 1)*cos(3*x[0] - x[1]**2) + 20*x[1]**2*sin(3*x[0] - x[1]**2)**2 + 4*(-2*sin(x[0] - 1) + 2*cos(3*x[0] - x[1]**2))*sin(3*x[0] - x[1]**2) - 2*(sin(x[0] - 1) - cos(3*x[0] - x[1]**2) + 1)*sin(3*x[0] - x[1]**2) + 1)], dtype=float64)"
      ]
     },
     "execution_count": 12,
     "metadata": {},
     "output_type": "execute_result"
    }
   ],
   "source": [
    "sym_diffops.hessian_vector_product(neg_log_dens)(x)(v)"
   ]
  },
  {
   "cell_type": "code",
   "execution_count": 13,
   "metadata": {},
   "outputs": [
    {
     "data": {
      "text/latex": [
       "$\\displaystyle \\left[\\begin{matrix}m[0, 0] \\left(\\frac{\\left(- 2 \\sin{\\left(x[0] - 1 \\right)} + 2 \\cos{\\left(3 x[0] - x[1]^{2} \\right)}\\right) \\left(108 \\sin{\\left(3 x[0] - x[1]^{2} \\right)} + 4 \\cos{\\left(x[0] - 1 \\right)}\\right)}{2} + \\left(- 2 \\sin{\\left(x[0] - 1 \\right)} + 18 \\cos{\\left(3 x[0] - x[1]^{2} \\right)}\\right) \\left(3 \\sin{\\left(3 x[0] - x[1]^{2} \\right)} + \\cos{\\left(x[0] - 1 \\right)}\\right) + \\frac{\\left(- \\sin{\\left(x[0] - 1 \\right)} + 9 \\cos{\\left(3 x[0] - x[1]^{2} \\right)}\\right) \\left(6 \\sin{\\left(3 x[0] - x[1]^{2} \\right)} + 2 \\cos{\\left(x[0] - 1 \\right)}\\right)}{2} + \\frac{\\left(2 \\sin{\\left(x[0] - 1 \\right)} - 18 \\cos{\\left(3 x[0] - x[1]^{2} \\right)}\\right) \\left(- 12 \\sin{\\left(3 x[0] - x[1]^{2} \\right)} - 4 \\cos{\\left(x[0] - 1 \\right)}\\right)}{2} + \\left(4 \\sin{\\left(x[0] - 1 \\right)} - 36 \\cos{\\left(3 x[0] - x[1]^{2} \\right)}\\right) \\left(- 6 \\sin{\\left(3 x[0] - x[1]^{2} \\right)} - 2 \\cos{\\left(x[0] - 1 \\right)}\\right) + \\frac{\\left(- 54 \\sin{\\left(3 x[0] - x[1]^{2} \\right)} - 2 \\cos{\\left(x[0] - 1 \\right)}\\right) \\left(\\sin{\\left(x[0] - 1 \\right)} - \\cos{\\left(3 x[0] - x[1]^{2} \\right)} + 1\\right)}{2}\\right) + m[0, 1] \\left(- 36 x[1] \\left(- 2 \\sin{\\left(x[0] - 1 \\right)} + 2 \\cos{\\left(3 x[0] - x[1]^{2} \\right)}\\right) \\sin{\\left(3 x[0] - x[1]^{2} \\right)} - 2 x[1] \\left(- \\sin{\\left(x[0] - 1 \\right)} + 9 \\cos{\\left(3 x[0] - x[1]^{2} \\right)}\\right) \\sin{\\left(3 x[0] - x[1]^{2} \\right)} + 4 x[1] \\left(2 \\sin{\\left(x[0] - 1 \\right)} - 18 \\cos{\\left(3 x[0] - x[1]^{2} \\right)}\\right) \\sin{\\left(3 x[0] - x[1]^{2} \\right)} + 24 x[1] \\left(- 6 \\sin{\\left(3 x[0] - x[1]^{2} \\right)} - 2 \\cos{\\left(x[0] - 1 \\right)}\\right) \\cos{\\left(3 x[0] - x[1]^{2} \\right)} - 12 x[1] \\left(3 \\sin{\\left(3 x[0] - x[1]^{2} \\right)} + \\cos{\\left(x[0] - 1 \\right)}\\right) \\cos{\\left(3 x[0] - x[1]^{2} \\right)} + 18 x[1] \\left(\\sin{\\left(x[0] - 1 \\right)} - \\cos{\\left(3 x[0] - x[1]^{2} \\right)} + 1\\right) \\sin{\\left(3 x[0] - x[1]^{2} \\right)}\\right) + m[1, 0] \\left(- 36 x[1] \\left(- 2 \\sin{\\left(x[0] - 1 \\right)} + 2 \\cos{\\left(3 x[0] - x[1]^{2} \\right)}\\right) \\sin{\\left(3 x[0] - x[1]^{2} \\right)} - x[1] \\left(- 2 \\sin{\\left(x[0] - 1 \\right)} + 18 \\cos{\\left(3 x[0] - x[1]^{2} \\right)}\\right) \\sin{\\left(3 x[0] - x[1]^{2} \\right)} + 2 x[1] \\left(4 \\sin{\\left(x[0] - 1 \\right)} - 36 \\cos{\\left(3 x[0] - x[1]^{2} \\right)}\\right) \\sin{\\left(3 x[0] - x[1]^{2} \\right)} + 6 x[1] \\left(- 12 \\sin{\\left(3 x[0] - x[1]^{2} \\right)} - 4 \\cos{\\left(x[0] - 1 \\right)}\\right) \\cos{\\left(3 x[0] - x[1]^{2} \\right)} + 12 x[1] \\left(- 6 \\sin{\\left(3 x[0] - x[1]^{2} \\right)} - 2 \\cos{\\left(x[0] - 1 \\right)}\\right) \\cos{\\left(3 x[0] - x[1]^{2} \\right)} - 6 x[1] \\left(3 \\sin{\\left(3 x[0] - x[1]^{2} \\right)} + \\cos{\\left(x[0] - 1 \\right)}\\right) \\cos{\\left(3 x[0] - x[1]^{2} \\right)} - 3 x[1] \\left(6 \\sin{\\left(3 x[0] - x[1]^{2} \\right)} + 2 \\cos{\\left(x[0] - 1 \\right)}\\right) \\cos{\\left(3 x[0] - x[1]^{2} \\right)} + 18 x[1] \\left(\\sin{\\left(x[0] - 1 \\right)} - \\cos{\\left(3 x[0] - x[1]^{2} \\right)} + 1\\right) \\sin{\\left(3 x[0] - x[1]^{2} \\right)}\\right) + m[1, 1] \\left(24 x[1]^{2} \\left(- 2 \\sin{\\left(x[0] - 1 \\right)} + 2 \\cos{\\left(3 x[0] - x[1]^{2} \\right)}\\right) \\sin{\\left(3 x[0] - x[1]^{2} \\right)} - 8 x[1]^{2} \\left(- 6 \\sin{\\left(3 x[0] - x[1]^{2} \\right)} - 2 \\cos{\\left(x[0] - 1 \\right)}\\right) \\cos{\\left(3 x[0] - x[1]^{2} \\right)} + 4 x[1]^{2} \\cdot \\left(3 \\sin{\\left(3 x[0] - x[1]^{2} \\right)} + \\cos{\\left(x[0] - 1 \\right)}\\right) \\cos{\\left(3 x[0] - x[1]^{2} \\right)} - 12 x[1]^{2} \\left(\\sin{\\left(x[0] - 1 \\right)} - \\cos{\\left(3 x[0] - x[1]^{2} \\right)} + 1\\right) \\sin{\\left(3 x[0] - x[1]^{2} \\right)} + 120 x[1]^{2} \\sin{\\left(3 x[0] - x[1]^{2} \\right)} \\cos{\\left(3 x[0] - x[1]^{2} \\right)} + 12 \\left(- 2 \\sin{\\left(x[0] - 1 \\right)} + 2 \\cos{\\left(3 x[0] - x[1]^{2} \\right)}\\right) \\cos{\\left(3 x[0] - x[1]^{2} \\right)} + 4 \\left(- 6 \\sin{\\left(3 x[0] - x[1]^{2} \\right)} - 2 \\cos{\\left(x[0] - 1 \\right)}\\right) \\sin{\\left(3 x[0] - x[1]^{2} \\right)} - 2 \\cdot \\left(3 \\sin{\\left(3 x[0] - x[1]^{2} \\right)} + \\cos{\\left(x[0] - 1 \\right)}\\right) \\sin{\\left(3 x[0] - x[1]^{2} \\right)} - 6 \\left(\\sin{\\left(x[0] - 1 \\right)} - \\cos{\\left(3 x[0] - x[1]^{2} \\right)} + 1\\right) \\cos{\\left(3 x[0] - x[1]^{2} \\right)}\\right) & m[0, 0] \\left(- 36 x[1] \\left(- 2 \\sin{\\left(x[0] - 1 \\right)} + 2 \\cos{\\left(3 x[0] - x[1]^{2} \\right)}\\right) \\sin{\\left(3 x[0] - x[1]^{2} \\right)} - x[1] \\left(- 2 \\sin{\\left(x[0] - 1 \\right)} + 18 \\cos{\\left(3 x[0] - x[1]^{2} \\right)}\\right) \\sin{\\left(3 x[0] - x[1]^{2} \\right)} + 2 x[1] \\left(4 \\sin{\\left(x[0] - 1 \\right)} - 36 \\cos{\\left(3 x[0] - x[1]^{2} \\right)}\\right) \\sin{\\left(3 x[0] - x[1]^{2} \\right)} + 6 x[1] \\left(- 12 \\sin{\\left(3 x[0] - x[1]^{2} \\right)} - 4 \\cos{\\left(x[0] - 1 \\right)}\\right) \\cos{\\left(3 x[0] - x[1]^{2} \\right)} + 12 x[1] \\left(- 6 \\sin{\\left(3 x[0] - x[1]^{2} \\right)} - 2 \\cos{\\left(x[0] - 1 \\right)}\\right) \\cos{\\left(3 x[0] - x[1]^{2} \\right)} - 6 x[1] \\left(3 \\sin{\\left(3 x[0] - x[1]^{2} \\right)} + \\cos{\\left(x[0] - 1 \\right)}\\right) \\cos{\\left(3 x[0] - x[1]^{2} \\right)} - 3 x[1] \\left(6 \\sin{\\left(3 x[0] - x[1]^{2} \\right)} + 2 \\cos{\\left(x[0] - 1 \\right)}\\right) \\cos{\\left(3 x[0] - x[1]^{2} \\right)} + 18 x[1] \\left(\\sin{\\left(x[0] - 1 \\right)} - \\cos{\\left(3 x[0] - x[1]^{2} \\right)} + 1\\right) \\sin{\\left(3 x[0] - x[1]^{2} \\right)}\\right) + m[0, 1] \\left(24 x[1]^{2} \\left(- 2 \\sin{\\left(x[0] - 1 \\right)} + 2 \\cos{\\left(3 x[0] - x[1]^{2} \\right)}\\right) \\sin{\\left(3 x[0] - x[1]^{2} \\right)} - 8 x[1]^{2} \\left(- 6 \\sin{\\left(3 x[0] - x[1]^{2} \\right)} - 2 \\cos{\\left(x[0] - 1 \\right)}\\right) \\cos{\\left(3 x[0] - x[1]^{2} \\right)} + 4 x[1]^{2} \\cdot \\left(3 \\sin{\\left(3 x[0] - x[1]^{2} \\right)} + \\cos{\\left(x[0] - 1 \\right)}\\right) \\cos{\\left(3 x[0] - x[1]^{2} \\right)} - 12 x[1]^{2} \\left(\\sin{\\left(x[0] - 1 \\right)} - \\cos{\\left(3 x[0] - x[1]^{2} \\right)} + 1\\right) \\sin{\\left(3 x[0] - x[1]^{2} \\right)} + 120 x[1]^{2} \\sin{\\left(3 x[0] - x[1]^{2} \\right)} \\cos{\\left(3 x[0] - x[1]^{2} \\right)} + 12 \\left(- 2 \\sin{\\left(x[0] - 1 \\right)} + 2 \\cos{\\left(3 x[0] - x[1]^{2} \\right)}\\right) \\cos{\\left(3 x[0] - x[1]^{2} \\right)} + 4 \\left(- 6 \\sin{\\left(3 x[0] - x[1]^{2} \\right)} - 2 \\cos{\\left(x[0] - 1 \\right)}\\right) \\sin{\\left(3 x[0] - x[1]^{2} \\right)} - 2 \\cdot \\left(3 \\sin{\\left(3 x[0] - x[1]^{2} \\right)} + \\cos{\\left(x[0] - 1 \\right)}\\right) \\sin{\\left(3 x[0] - x[1]^{2} \\right)} - 6 \\left(\\sin{\\left(x[0] - 1 \\right)} - \\cos{\\left(3 x[0] - x[1]^{2} \\right)} + 1\\right) \\cos{\\left(3 x[0] - x[1]^{2} \\right)}\\right) + m[1, 0] \\left(24 x[1]^{2} \\left(- 2 \\sin{\\left(x[0] - 1 \\right)} + 2 \\cos{\\left(3 x[0] - x[1]^{2} \\right)}\\right) \\sin{\\left(3 x[0] - x[1]^{2} \\right)} - 4 x[1]^{2} \\left(- 12 \\sin{\\left(3 x[0] - x[1]^{2} \\right)} - 4 \\cos{\\left(x[0] - 1 \\right)}\\right) \\cos{\\left(3 x[0] - x[1]^{2} \\right)} + 2 x[1]^{2} \\cdot \\left(6 \\sin{\\left(3 x[0] - x[1]^{2} \\right)} + 2 \\cos{\\left(x[0] - 1 \\right)}\\right) \\cos{\\left(3 x[0] - x[1]^{2} \\right)} - 12 x[1]^{2} \\left(\\sin{\\left(x[0] - 1 \\right)} - \\cos{\\left(3 x[0] - x[1]^{2} \\right)} + 1\\right) \\sin{\\left(3 x[0] - x[1]^{2} \\right)} + 120 x[1]^{2} \\sin{\\left(3 x[0] - x[1]^{2} \\right)} \\cos{\\left(3 x[0] - x[1]^{2} \\right)} + 12 \\left(- 2 \\sin{\\left(x[0] - 1 \\right)} + 2 \\cos{\\left(3 x[0] - x[1]^{2} \\right)}\\right) \\cos{\\left(3 x[0] - x[1]^{2} \\right)} + 2 \\left(- 12 \\sin{\\left(3 x[0] - x[1]^{2} \\right)} - 4 \\cos{\\left(x[0] - 1 \\right)}\\right) \\sin{\\left(3 x[0] - x[1]^{2} \\right)} - \\left(6 \\sin{\\left(3 x[0] - x[1]^{2} \\right)} + 2 \\cos{\\left(x[0] - 1 \\right)}\\right) \\sin{\\left(3 x[0] - x[1]^{2} \\right)} - 6 \\left(\\sin{\\left(x[0] - 1 \\right)} - \\cos{\\left(3 x[0] - x[1]^{2} \\right)} + 1\\right) \\cos{\\left(3 x[0] - x[1]^{2} \\right)}\\right) + m[1, 1] \\left(- 16 x[1]^{3} \\left(- 2 \\sin{\\left(x[0] - 1 \\right)} + 2 \\cos{\\left(3 x[0] - x[1]^{2} \\right)}\\right) \\sin{\\left(3 x[0] - x[1]^{2} \\right)} + 8 x[1]^{3} \\left(\\sin{\\left(x[0] - 1 \\right)} - \\cos{\\left(3 x[0] - x[1]^{2} \\right)} + 1\\right) \\sin{\\left(3 x[0] - x[1]^{2} \\right)} - 120 x[1]^{3} \\sin{\\left(3 x[0] - x[1]^{2} \\right)} \\cos{\\left(3 x[0] - x[1]^{2} \\right)} - 24 x[1] \\left(- 2 \\sin{\\left(x[0] - 1 \\right)} + 2 \\cos{\\left(3 x[0] - x[1]^{2} \\right)}\\right) \\cos{\\left(3 x[0] - x[1]^{2} \\right)} + 12 x[1] \\left(\\sin{\\left(x[0] - 1 \\right)} - \\cos{\\left(3 x[0] - x[1]^{2} \\right)} + 1\\right) \\cos{\\left(3 x[0] - x[1]^{2} \\right)} + 60 x[1] \\sin^{2}{\\left(3 x[0] - x[1]^{2} \\right)}\\right)\\end{matrix}\\right]$"
      ],
      "text/plain": [
       "SymbolicArray([m[0, 0]*((-2*sin(x[0] - 1) + 2*cos(3*x[0] - x[1]**2))*(108*sin(3*x[0] - x[1]**2) + 4*cos(x[0] - 1))/2 + (-2*sin(x[0] - 1) + 18*cos(3*x[0] - x[1]**2))*(3*sin(3*x[0] - x[1]**2) + cos(x[0] - 1)) + (-sin(x[0] - 1) + 9*cos(3*x[0] - x[1]**2))*(6*sin(3*x[0] - x[1]**2) + 2*cos(x[0] - 1))/2 + (2*sin(x[0] - 1) - 18*cos(3*x[0] - x[1]**2))*(-12*sin(3*x[0] - x[1]**2) - 4*cos(x[0] - 1))/2 + (4*sin(x[0] - 1) - 36*cos(3*x[0] - x[1]**2))*(-6*sin(3*x[0] - x[1]**2) - 2*cos(x[0] - 1)) + (-54*sin(3*x[0] - x[1]**2) - 2*cos(x[0] - 1))*(sin(x[0] - 1) - cos(3*x[0] - x[1]**2) + 1)/2) + m[0, 1]*(-36*x[1]*(-2*sin(x[0] - 1) + 2*cos(3*x[0] - x[1]**2))*sin(3*x[0] - x[1]**2) - 2*x[1]*(-sin(x[0] - 1) + 9*cos(3*x[0] - x[1]**2))*sin(3*x[0] - x[1]**2) + 4*x[1]*(2*sin(x[0] - 1) - 18*cos(3*x[0] - x[1]**2))*sin(3*x[0] - x[1]**2) + 24*x[1]*(-6*sin(3*x[0] - x[1]**2) - 2*cos(x[0] - 1))*cos(3*x[0] - x[1]**2) - 12*x[1]*(3*sin(3*x[0] - x[1]**2) + cos(x[0] - 1))*cos(3*x[0] - x[1]**2) + 18*x[1]*(sin(x[0] - 1) - cos(3*x[0] - x[1]**2) + 1)*sin(3*x[0] - x[1]**2)) + m[1, 0]*(-36*x[1]*(-2*sin(x[0] - 1) + 2*cos(3*x[0] - x[1]**2))*sin(3*x[0] - x[1]**2) - x[1]*(-2*sin(x[0] - 1) + 18*cos(3*x[0] - x[1]**2))*sin(3*x[0] - x[1]**2) + 2*x[1]*(4*sin(x[0] - 1) - 36*cos(3*x[0] - x[1]**2))*sin(3*x[0] - x[1]**2) + 6*x[1]*(-12*sin(3*x[0] - x[1]**2) - 4*cos(x[0] - 1))*cos(3*x[0] - x[1]**2) + 12*x[1]*(-6*sin(3*x[0] - x[1]**2) - 2*cos(x[0] - 1))*cos(3*x[0] - x[1]**2) - 6*x[1]*(3*sin(3*x[0] - x[1]**2) + cos(x[0] - 1))*cos(3*x[0] - x[1]**2) - 3*x[1]*(6*sin(3*x[0] - x[1]**2) + 2*cos(x[0] - 1))*cos(3*x[0] - x[1]**2) + 18*x[1]*(sin(x[0] - 1) - cos(3*x[0] - x[1]**2) + 1)*sin(3*x[0] - x[1]**2)) + m[1, 1]*(24*x[1]**2*(-2*sin(x[0] - 1) + 2*cos(3*x[0] - x[1]**2))*sin(3*x[0] - x[1]**2) - 8*x[1]**2*(-6*sin(3*x[0] - x[1]**2) - 2*cos(x[0] - 1))*cos(3*x[0] - x[1]**2) + 4*x[1]**2*(3*sin(3*x[0] - x[1]**2) + cos(x[0] - 1))*cos(3*x[0] - x[1]**2) - 12*x[1]**2*(sin(x[0] - 1) - cos(3*x[0] - x[1]**2) + 1)*sin(3*x[0] - x[1]**2) + 120*x[1]**2*sin(3*x[0] - x[1]**2)*cos(3*x[0] - x[1]**2) + 12*(-2*sin(x[0] - 1) + 2*cos(3*x[0] - x[1]**2))*cos(3*x[0] - x[1]**2) + 4*(-6*sin(3*x[0] - x[1]**2) - 2*cos(x[0] - 1))*sin(3*x[0] - x[1]**2) - 2*(3*sin(3*x[0] - x[1]**2) + cos(x[0] - 1))*sin(3*x[0] - x[1]**2) - 6*(sin(x[0] - 1) - cos(3*x[0] - x[1]**2) + 1)*cos(3*x[0] - x[1]**2)), m[0, 0]*(-36*x[1]*(-2*sin(x[0] - 1) + 2*cos(3*x[0] - x[1]**2))*sin(3*x[0] - x[1]**2) - x[1]*(-2*sin(x[0] - 1) + 18*cos(3*x[0] - x[1]**2))*sin(3*x[0] - x[1]**2) + 2*x[1]*(4*sin(x[0] - 1) - 36*cos(3*x[0] - x[1]**2))*sin(3*x[0] - x[1]**2) + 6*x[1]*(-12*sin(3*x[0] - x[1]**2) - 4*cos(x[0] - 1))*cos(3*x[0] - x[1]**2) + 12*x[1]*(-6*sin(3*x[0] - x[1]**2) - 2*cos(x[0] - 1))*cos(3*x[0] - x[1]**2) - 6*x[1]*(3*sin(3*x[0] - x[1]**2) + cos(x[0] - 1))*cos(3*x[0] - x[1]**2) - 3*x[1]*(6*sin(3*x[0] - x[1]**2) + 2*cos(x[0] - 1))*cos(3*x[0] - x[1]**2) + 18*x[1]*(sin(x[0] - 1) - cos(3*x[0] - x[1]**2) + 1)*sin(3*x[0] - x[1]**2)) + m[0, 1]*(24*x[1]**2*(-2*sin(x[0] - 1) + 2*cos(3*x[0] - x[1]**2))*sin(3*x[0] - x[1]**2) - 8*x[1]**2*(-6*sin(3*x[0] - x[1]**2) - 2*cos(x[0] - 1))*cos(3*x[0] - x[1]**2) + 4*x[1]**2*(3*sin(3*x[0] - x[1]**2) + cos(x[0] - 1))*cos(3*x[0] - x[1]**2) - 12*x[1]**2*(sin(x[0] - 1) - cos(3*x[0] - x[1]**2) + 1)*sin(3*x[0] - x[1]**2) + 120*x[1]**2*sin(3*x[0] - x[1]**2)*cos(3*x[0] - x[1]**2) + 12*(-2*sin(x[0] - 1) + 2*cos(3*x[0] - x[1]**2))*cos(3*x[0] - x[1]**2) + 4*(-6*sin(3*x[0] - x[1]**2) - 2*cos(x[0] - 1))*sin(3*x[0] - x[1]**2) - 2*(3*sin(3*x[0] - x[1]**2) + cos(x[0] - 1))*sin(3*x[0] - x[1]**2) - 6*(sin(x[0] - 1) - cos(3*x[0] - x[1]**2) + 1)*cos(3*x[0] - x[1]**2)) + m[1, 0]*(24*x[1]**2*(-2*sin(x[0] - 1) + 2*cos(3*x[0] - x[1]**2))*sin(3*x[0] - x[1]**2) - 4*x[1]**2*(-12*sin(3*x[0] - x[1]**2) - 4*cos(x[0] - 1))*cos(3*x[0] - x[1]**2) + 2*x[1]**2*(6*sin(3*x[0] - x[1]**2) + 2*cos(x[0] - 1))*cos(3*x[0] - x[1]**2) - 12*x[1]**2*(sin(x[0] - 1) - cos(3*x[0] - x[1]**2) + 1)*sin(3*x[0] - x[1]**2) + 120*x[1]**2*sin(3*x[0] - x[1]**2)*cos(3*x[0] - x[1]**2) + 12*(-2*sin(x[0] - 1) + 2*cos(3*x[0] - x[1]**2))*cos(3*x[0] - x[1]**2) + 2*(-12*sin(3*x[0] - x[1]**2) - 4*cos(x[0] - 1))*sin(3*x[0] - x[1]**2) - (6*sin(3*x[0] - x[1]**2) + 2*cos(x[0] - 1))*sin(3*x[0] - x[1]**2) - 6*(sin(x[0] - 1) - cos(3*x[0] - x[1]**2) + 1)*cos(3*x[0] - x[1]**2)) + m[1, 1]*(-16*x[1]**3*(-2*sin(x[0] - 1) + 2*cos(3*x[0] - x[1]**2))*sin(3*x[0] - x[1]**2) + 8*x[1]**3*(sin(x[0] - 1) - cos(3*x[0] - x[1]**2) + 1)*sin(3*x[0] - x[1]**2) - 120*x[1]**3*sin(3*x[0] - x[1]**2)*cos(3*x[0] - x[1]**2) - 24*x[1]*(-2*sin(x[0] - 1) + 2*cos(3*x[0] - x[1]**2))*cos(3*x[0] - x[1]**2) + 12*x[1]*(sin(x[0] - 1) - cos(3*x[0] - x[1]**2) + 1)*cos(3*x[0] - x[1]**2) + 60*x[1]*sin(3*x[0] - x[1]**2)**2)], dtype=float64)"
      ]
     },
     "execution_count": 13,
     "metadata": {},
     "output_type": "execute_result"
    }
   ],
   "source": [
    "sym_diffops.matrix_tressian_product(neg_log_dens)(x)(m)"
   ]
  },
  {
   "cell_type": "markdown",
   "metadata": {},
   "source": [
    "## NumPy function generation"
   ]
  },
  {
   "cell_type": "code",
   "execution_count": 14,
   "metadata": {},
   "outputs": [],
   "source": [
    "x_np = np.array([0.2, 1.1])\n",
    "v_np = np.array([1., -1.])\n",
    "m_np = np.array([[1., 2.], [3., 4.]])"
   ]
  },
  {
   "cell_type": "code",
   "execution_count": 15,
   "metadata": {},
   "outputs": [
    {
     "data": {
      "text/plain": [
       "array([ 1.53700411, -3.07400822])"
      ]
     },
     "execution_count": 15,
     "metadata": {},
     "output_type": "execute_result"
    }
   ],
   "source": [
    "forward_func_np = symnum.numpify(2)(forward_func)\n",
    "forward_func_np(x_np)"
   ]
  },
  {
   "cell_type": "code",
   "execution_count": 16,
   "metadata": {},
   "outputs": [
    {
     "data": {
      "text/plain": [
       "5.493949967002545"
      ]
     },
     "execution_count": 16,
     "metadata": {},
     "output_type": "execute_result"
    }
   ],
   "source": [
    "neg_log_dens_np = symnum.numpify(2)(neg_log_dens)\n",
    "neg_log_dens_np(x_np)"
   ]
  },
  {
   "cell_type": "code",
   "execution_count": 17,
   "metadata": {},
   "outputs": [
    {
     "data": {
      "text/plain": [
       "array([ 7.03139355, -7.32518763])"
      ]
     },
     "execution_count": 17,
     "metadata": {},
     "output_type": "execute_result"
    }
   ],
   "source": [
    "symnum.gradient(neg_log_dens_np)(x_np)"
   ]
  },
  {
   "cell_type": "code",
   "execution_count": 18,
   "metadata": {},
   "outputs": [
    {
     "data": {
      "text/plain": [
       "array([[-47.88846093,  29.72428278],\n",
       "       [ 29.72428278, -25.23749599]])"
      ]
     },
     "execution_count": 18,
     "metadata": {},
     "output_type": "execute_result"
    }
   ],
   "source": [
    "symnum.hessian(neg_log_dens_np)(x_np)"
   ]
  },
  {
   "cell_type": "code",
   "execution_count": 19,
   "metadata": {},
   "outputs": [
    {
     "data": {
      "text/plain": [
       "array([-77.61274371,  54.96177876])"
      ]
     },
     "execution_count": 19,
     "metadata": {},
     "output_type": "execute_result"
    }
   ],
   "source": [
    "symnum.hessian_vector_product(neg_log_dens_np)(x_np)(v_np)"
   ]
  },
  {
   "cell_type": "code",
   "execution_count": 20,
   "metadata": {},
   "outputs": [
    {
     "data": {
      "text/plain": [
       "array([ 219.62500437, -142.62315559])"
      ]
     },
     "execution_count": 20,
     "metadata": {},
     "output_type": "execute_result"
    }
   ],
   "source": [
    "symnum.matrix_tressian_product(neg_log_dens_np)(x_np)(m_np)"
   ]
  },
  {
   "cell_type": "code",
   "execution_count": 21,
   "metadata": {},
   "outputs": [
    {
     "data": {
      "text/plain": [
       "array([[ 1.02189567, -1.26030841],\n",
       "       [-2.04379134,  2.52061682]])"
      ]
     },
     "execution_count": 21,
     "metadata": {},
     "output_type": "execute_result"
    }
   ],
   "source": [
    "symnum.jacobian(forward_func_np)(x_np)"
   ]
  },
  {
   "cell_type": "code",
   "execution_count": 22,
   "metadata": {},
   "outputs": [
    {
     "data": {
      "text/plain": [
       "array([ 2.28220408, -4.56440817])"
      ]
     },
     "execution_count": 22,
     "metadata": {},
     "output_type": "execute_result"
    }
   ],
   "source": [
    "symnum.jacobian_vector_product(forward_func_np)(x_np)(v_np)"
   ]
  },
  {
   "cell_type": "code",
   "execution_count": 23,
   "metadata": {},
   "outputs": [
    {
     "data": {
      "text/plain": [
       "array([ 3.06568701, -3.78092524])"
      ]
     },
     "execution_count": 23,
     "metadata": {},
     "output_type": "execute_result"
    }
   ],
   "source": [
    "symnum.vector_jacobian_product(forward_func_np)(x_np)(v_np)"
   ]
  },
  {
   "cell_type": "code",
   "execution_count": 24,
   "metadata": {},
   "outputs": [
    {
     "data": {
      "text/plain": [
       "array([8.01287975, 3.62860337])"
      ]
     },
     "execution_count": 24,
     "metadata": {},
     "output_type": "execute_result"
    }
   ],
   "source": [
    "symnum.matrix_hessian_product(forward_func_np)(x_np)(m_np)"
   ]
  },
  {
   "cell_type": "markdown",
   "metadata": {},
   "source": [
    "## Compatibility with `multiprocessing`"
   ]
  },
  {
   "cell_type": "code",
   "execution_count": 25,
   "metadata": {},
   "outputs": [],
   "source": [
    "grad_neg_log_dens = symnum.gradient(neg_log_dens_np)"
   ]
  },
  {
   "cell_type": "code",
   "execution_count": 26,
   "metadata": {},
   "outputs": [],
   "source": [
    "pool = multiprocessing.Pool(4)"
   ]
  },
  {
   "cell_type": "code",
   "execution_count": 27,
   "metadata": {},
   "outputs": [
    {
     "data": {
      "text/plain": [
       "[array([ 7.03139355, -7.32518763]),\n",
       " array([ 5.36166701, -6.83240645]),\n",
       " array([ 4.05701734, -6.32916535]),\n",
       " array([ 3.1698736 , -5.90591748]),\n",
       " array([ 2.69164583, -5.61080858]),\n",
       " array([ 2.56667444, -5.4433092 ]),\n",
       " array([ 2.70213256, -5.34858144]),\n",
       " array([ 2.97340715, -5.21063384])]"
      ]
     },
     "execution_count": 27,
     "metadata": {},
     "output_type": "execute_result"
    }
   ],
   "source": [
    "pool.map(grad_neg_log_dens, [x_np + 0.1 * i for i in range(8)])"
   ]
  }
 ],
 "metadata": {
  "kernelspec": {
   "display_name": "Python 3",
   "language": "python",
   "name": "python3"
  },
  "language_info": {
   "codemirror_mode": {
    "name": "ipython",
    "version": 3
   },
   "file_extension": ".py",
   "mimetype": "text/x-python",
   "name": "python",
   "nbconvert_exporter": "python",
   "pygments_lexer": "ipython3",
   "version": "3.10.0"
  }
 },
 "nbformat": 4,
 "nbformat_minor": 4
}

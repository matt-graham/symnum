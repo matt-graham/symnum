{
 "cells": [
  {
   "cell_type": "code",
   "execution_count": 2,
   "metadata": {},
   "outputs": [],
   "source": [
    "import sympy as sym\n",
    "import symnum\n",
    "import symnum.numpy as snp\n",
    "import numpy as np\n",
    "import multiprocessing"
   ]
  },
  {
   "cell_type": "code",
   "execution_count": 2,
   "metadata": {},
   "outputs": [],
   "source": [
    "y = snp.array([1., 0.])\n",
    "σ = 0.1\n",
    "\n",
    "def forward_func(θ):\n",
    "    return snp.array([[1., -0.5], [-2., 3.]]) @ snp.array(\n",
    "        [snp.cos(-θ[1]**2 + 3 * θ[0]), snp.sin(θ[0] - 1)])\n",
    "\n",
    "def neg_log_dens(θ):\n",
    "    return (\n",
    "        0.5 * snp.sum((y - forward_func(θ))**2 / σ**2) + \n",
    "        0.5 * snp.sum(θ**2))"
   ]
  },
  {
   "cell_type": "code",
   "execution_count": 1,
   "metadata": {},
   "outputs": [],
   "source": [
    "import numpy as np\n",
    "import symnum.numpy as snp\n",
    "from symnum.array import named_array\n",
    "from symnum import numpy_func, sympy_jacobian, numpy_jacobian\n",
    "\n",
    "# Define a function using the symnum.numpy interface which replicates a subset\n",
    "# of the NumPy API including a SymbolicArray class with similar broadcasting\n",
    "# and operator overloading semantics to the NumPy ndarray class\n",
    "def func(x):\n",
    "    return (snp.array([[1., -0.5], [-2., 3.]]) @ \n",
    "            snp.array([snp.cos(-x[1]**2 + 3 * x[0]), snp.sin(x[0] - 1)]))\n",
    "\n",
    "# Create a named symbolic array to act as input and evaluate func symbolically\n",
    "x = named_array(name='x', shape=2)\n",
    "y = func(x)\n",
    "\n",
    "# Evaluate Jacobian of func symbolically\n",
    "dy_dx = sympy_jacobian(func)(x)\n",
    "\n",
    "# Evaluate func on a NumPy array. If all arguments to a function using the\n",
    "# symnum.numpy interface are ndarrays then a NumPy array is returned\n",
    "# This will incur some overhead and also prevents use of native SymPy functions\n",
    "# in the function definition\n",
    "x_np = np.array([0.2, 1.1])\n",
    "y_np = func(x_np)\n",
    "\n",
    "# Alternatively we can symbolically 'trace' func and use this to generate a\n",
    "# NumPy function which accepts ndarray arguments. To allow the tracing we need\n",
    "# to manually specify the shapes of the arguments\n",
    "func_np = numpy_func(func, x.shape)\n",
    "y_np = func_np(x_np)\n",
    "\n",
    "# We can also use a similar approach to generate a NumPy function to evaluate\n",
    "# the Jacobian of func on ndarray arguments. We again need to manually specify \n",
    "# the shapes of the arguments\n",
    "jac_func_np = numpy_jacobian(func, x.shape)\n",
    "dy_dx_np = jac_func_np(x_np)"
   ]
  },
  {
   "cell_type": "code",
   "execution_count": 2,
   "metadata": {},
   "outputs": [
    {
     "data": {
      "text/plain": [
       "array([[ 1.37024903, -1.26030841],\n",
       "       [-1.34708463,  2.52061682]])"
      ]
     },
     "execution_count": 2,
     "metadata": {},
     "output_type": "execute_result"
    }
   ],
   "source": [
    "dy_dx_np"
   ]
  },
  {
   "cell_type": "code",
   "execution_count": 2,
   "metadata": {},
   "outputs": [
    {
     "name": "stdout",
     "output_type": "stream",
     "text": [
      "> \u001b[0;32m<ipython-input-1-7ef53e4eab75>\u001b[0m(11)\u001b[0;36mfunc\u001b[0;34m()\u001b[0m\n",
      "\u001b[0;32m      9 \u001b[0;31m\u001b[0;32mdef\u001b[0m \u001b[0mfunc\u001b[0m\u001b[0;34m(\u001b[0m\u001b[0mx\u001b[0m\u001b[0;34m)\u001b[0m\u001b[0;34m:\u001b[0m\u001b[0;34m\u001b[0m\u001b[0;34m\u001b[0m\u001b[0m\n",
      "\u001b[0m\u001b[0;32m     10 \u001b[0;31m    return (snp.array([[1., -0.5], [-2., 3.]]) @ \n",
      "\u001b[0m\u001b[0;32m---> 11 \u001b[0;31m            snp.array([snp.cos(-x[1]**2 + 3 * x[0]), snp.sin(x[0] - 1)]))\n",
      "\u001b[0m\u001b[0;32m     12 \u001b[0;31m\u001b[0;34m\u001b[0m\u001b[0m\n",
      "\u001b[0m\u001b[0;32m     13 \u001b[0;31m\u001b[0;31m# Create a named symbolic array to act as input and evaluate func symbolically\u001b[0m\u001b[0;34m\u001b[0m\u001b[0;34m\u001b[0m\u001b[0;34m\u001b[0m\u001b[0m\n",
      "\u001b[0m\n"
     ]
    },
    {
     "name": "stdin",
     "output_type": "stream",
     "text": [
      "ipdb>  x\n"
     ]
    },
    {
     "name": "stdout",
     "output_type": "stream",
     "text": [
      "arg_0\n"
     ]
    },
    {
     "name": "stdin",
     "output_type": "stream",
     "text": [
      "ipdb>  arg_0\n"
     ]
    },
    {
     "name": "stdout",
     "output_type": "stream",
     "text": [
      "*** NameError: name 'arg_0' is not defined\n"
     ]
    },
    {
     "name": "stdin",
     "output_type": "stream",
     "text": [
      "ipdb>  x.shape\n"
     ]
    },
    {
     "name": "stdout",
     "output_type": "stream",
     "text": [
      "*** AttributeError: 'Symbol' object has no attribute 'shape'\n"
     ]
    },
    {
     "name": "stdin",
     "output_type": "stream",
     "text": [
      "ipdb>  u\n"
     ]
    },
    {
     "name": "stdout",
     "output_type": "stream",
     "text": [
      "> \u001b[0;32m/home/matt/Projects/tinydiff/symnum/code_generation.py\u001b[0m(56)\u001b[0;36mnumpy_func\u001b[0;34m()\u001b[0m\n",
      "\u001b[0;32m     54 \u001b[0;31m    \u001b[0;32melse\u001b[0m\u001b[0;34m:\u001b[0m\u001b[0;34m\u001b[0m\u001b[0;34m\u001b[0m\u001b[0m\n",
      "\u001b[0m\u001b[0;32m     55 \u001b[0;31m        \u001b[0mfunc_name\u001b[0m \u001b[0;34m=\u001b[0m \u001b[0;34mf'{func_name_prefix}{func.__name__}'\u001b[0m\u001b[0;34m\u001b[0m\u001b[0;34m\u001b[0m\u001b[0m\n",
      "\u001b[0m\u001b[0;32m---> 56 \u001b[0;31m    \u001b[0;32mreturn\u001b[0m \u001b[0mgenerate_func\u001b[0m\u001b[0;34m(\u001b[0m\u001b[0margs\u001b[0m\u001b[0;34m,\u001b[0m \u001b[0mfunc\u001b[0m\u001b[0;34m(\u001b[0m\u001b[0;34m*\u001b[0m\u001b[0margs\u001b[0m\u001b[0;34m)\u001b[0m\u001b[0;34m,\u001b[0m \u001b[0mfunc_name\u001b[0m\u001b[0;34m,\u001b[0m \u001b[0;34m**\u001b[0m\u001b[0mkwargs\u001b[0m\u001b[0;34m)\u001b[0m\u001b[0;34m\u001b[0m\u001b[0;34m\u001b[0m\u001b[0m\n",
      "\u001b[0m\u001b[0;32m     57 \u001b[0;31m\u001b[0;34m\u001b[0m\u001b[0m\n",
      "\u001b[0m\u001b[0;32m     58 \u001b[0;31m\u001b[0;34m\u001b[0m\u001b[0m\n",
      "\u001b[0m\n"
     ]
    },
    {
     "name": "stdin",
     "output_type": "stream",
     "text": [
      "ipdb>  args\n"
     ]
    },
    {
     "name": "stdout",
     "output_type": "stream",
     "text": [
      "func = <function func at 0x7f0e9c5b55f0>\n",
      "arg_names = None\n",
      "func_name_prefix = ''\n",
      "arg_shapes = ((2,),)\n",
      "kwargs = {}\n"
     ]
    },
    {
     "name": "stdin",
     "output_type": "stream",
     "text": [
      "ipdb>  !args\n"
     ]
    },
    {
     "name": "stdout",
     "output_type": "stream",
     "text": [
      "(arg_0,)\n"
     ]
    },
    {
     "name": "stdin",
     "output_type": "stream",
     "text": [
      "ipdb>  arg_0\n"
     ]
    },
    {
     "name": "stdout",
     "output_type": "stream",
     "text": [
      "*** NameError: name 'arg_0' is not defined\n"
     ]
    },
    {
     "name": "stdin",
     "output_type": "stream",
     "text": [
      "ipdb>  args[0]\n"
     ]
    },
    {
     "name": "stdout",
     "output_type": "stream",
     "text": [
      "func = <function func at 0x7f0e9c5b55f0>\n",
      "arg_names = None\n",
      "func_name_prefix = ''\n",
      "arg_shapes = ((2,),)\n",
      "kwargs = {}\n"
     ]
    },
    {
     "name": "stdin",
     "output_type": "stream",
     "text": [
      "ipdb>  !args[0]\n"
     ]
    },
    {
     "name": "stdout",
     "output_type": "stream",
     "text": [
      "arg_0\n"
     ]
    },
    {
     "name": "stdin",
     "output_type": "stream",
     "text": [
      "ipdb>  q\n"
     ]
    }
   ],
   "source": [
    "%debug"
   ]
  },
  {
   "cell_type": "markdown",
   "metadata": {},
   "source": [
    "## Symbolic derivatives"
   ]
  },
  {
   "cell_type": "code",
   "execution_count": 3,
   "metadata": {},
   "outputs": [],
   "source": [
    "θ = symnum.array.named_array('θ', 2)"
   ]
  },
  {
   "cell_type": "code",
   "execution_count": 4,
   "metadata": {},
   "outputs": [
    {
     "data": {
      "text/latex": [
       "$\\displaystyle \\left[\\begin{matrix}- 0.5 \\sin{\\left(θ[0] - 1 \\right)} + 1.0 \\cos{\\left(3 θ[0] - θ[1]^{2} \\right)} & 3.0 \\sin{\\left(θ[0] - 1 \\right)} - 2.0 \\cos{\\left(3 θ[0] - θ[1]^{2} \\right)}\\end{matrix}\\right]$"
      ],
      "text/plain": [
       "[-0.5*sin(θ[0] - 1) + 1.0*cos(3*θ[0] - θ[1]**2), 3.0*sin(θ[0] - 1) - 2.0*cos(3*θ[0] - θ[1]**2)]"
      ]
     },
     "execution_count": 4,
     "metadata": {},
     "output_type": "execute_result"
    }
   ],
   "source": [
    "forward_func(θ)"
   ]
  },
  {
   "cell_type": "code",
   "execution_count": 5,
   "metadata": {},
   "outputs": [
    {
     "data": {
      "text/latex": [
       "$\\displaystyle \\left[\\begin{matrix}- 3.0 \\sin{\\left(3 θ[0] - θ[1]^{2} \\right)} - 0.5 \\cos{\\left(θ[0] - 1 \\right)} & 2.0 θ[1] \\sin{\\left(3 θ[0] - θ[1]^{2} \\right)}\\\\6.0 \\sin{\\left(3 θ[0] - θ[1]^{2} \\right)} + 3.0 \\cos{\\left(θ[0] - 1 \\right)} & - 4.0 θ[1] \\sin{\\left(3 θ[0] - θ[1]^{2} \\right)}\\end{matrix}\\right]$"
      ],
      "text/plain": [
       "[[-3.0*sin(3*θ[0] - θ[1]**2) - 0.5*cos(θ[0] - 1), 2.0*θ[1]*sin(3*θ[0] - θ[1]**2)], [6.0*sin(3*θ[0] - θ[1]**2) + 3.0*cos(θ[0] - 1), -4.0*θ[1]*sin(3*θ[0] - θ[1]**2)]]"
      ]
     },
     "execution_count": 5,
     "metadata": {},
     "output_type": "execute_result"
    }
   ],
   "source": [
    "symnum.sympy_jacobian(forward_func)(θ)"
   ]
  },
  {
   "cell_type": "code",
   "execution_count": 6,
   "metadata": {},
   "outputs": [
    {
     "data": {
      "text/latex": [
       "$\\displaystyle 0.5 θ[0]^{2} + 0.5 θ[1]^{2} + 450.0 \\left(- \\sin{\\left(θ[0] - 1 \\right)} + 0.666666666666667 \\cos{\\left(3 θ[0] - θ[1]^{2} \\right)}\\right)^{2} + 50.0 \\left(0.5 \\sin{\\left(θ[0] - 1 \\right)} - 1.0 \\cos{\\left(3 θ[0] - θ[1]^{2} \\right)} + 1.0\\right)^{2}$"
      ],
      "text/plain": [
       "0.5*θ[0]**2 + 0.5*θ[1]**2 + 450.0*(-sin(θ[0] - 1) + 0.666666666666667*cos(3*θ[0] - θ[1]**2))**2 + 50.0*(0.5*sin(θ[0] - 1) - 1.0*cos(3*θ[0] - θ[1]**2) + 1.0)**2"
      ]
     },
     "execution_count": 6,
     "metadata": {},
     "output_type": "execute_result"
    }
   ],
   "source": [
    "neg_log_dens(θ)"
   ]
  },
  {
   "cell_type": "code",
   "execution_count": 7,
   "metadata": {},
   "outputs": [
    {
     "data": {
      "text/latex": [
       "$\\displaystyle \\left[\\begin{matrix}1.0 θ[0] + 450.0 \\left(- \\sin{\\left(θ[0] - 1 \\right)} + 0.666666666666667 \\cos{\\left(3 θ[0] - θ[1]^{2} \\right)}\\right) \\left(- 4.0 \\sin{\\left(3 θ[0] - θ[1]^{2} \\right)} - 2 \\cos{\\left(θ[0] - 1 \\right)}\\right) + 50.0 \\left(6.0 \\sin{\\left(3 θ[0] - θ[1]^{2} \\right)} + \\cos{\\left(θ[0] - 1 \\right)}\\right) \\left(0.5 \\sin{\\left(θ[0] - 1 \\right)} - 1.0 \\cos{\\left(3 θ[0] - θ[1]^{2} \\right)} + 1.0\\right) & 1200.0 θ[1] \\left(- \\sin{\\left(θ[0] - 1 \\right)} + 0.666666666666667 \\cos{\\left(3 θ[0] - θ[1]^{2} \\right)}\\right) \\sin{\\left(3 θ[0] - θ[1]^{2} \\right)} - 200.0 θ[1] \\left(0.5 \\sin{\\left(θ[0] - 1 \\right)} - 1.0 \\cos{\\left(3 θ[0] - θ[1]^{2} \\right)} + 1.0\\right) \\sin{\\left(3 θ[0] - θ[1]^{2} \\right)} + 1.0 θ[1]\\end{matrix}\\right]$"
      ],
      "text/plain": [
       "[1.0*θ[0] + 450.0*(-sin(θ[0] - 1) + 0.666666666666667*cos(3*θ[0] - θ[1]**2))*(-4.0*sin(3*θ[0] - θ[1]**2) - 2*cos(θ[0] - 1)) + 50.0*(6.0*sin(3*θ[0] - θ[1]**2) + cos(θ[0] - 1))*(0.5*sin(θ[0] - 1) - 1.0*cos(3*θ[0] - θ[1]**2) + 1.0), 1200.0*θ[1]*(-sin(θ[0] - 1) + 0.666666666666667*cos(3*θ[0] - θ[1]**2))*sin(3*θ[0] - θ[1]**2) - 200.0*θ[1]*(0.5*sin(θ[0] - 1) - 1.0*cos(3*θ[0] - θ[1]**2) + 1.0)*sin(3*θ[0] - θ[1]**2) + 1.0*θ[1]]"
      ]
     },
     "execution_count": 7,
     "metadata": {},
     "output_type": "execute_result"
    }
   ],
   "source": [
    "symnum.sympy_grad(neg_log_dens)(θ)"
   ]
  },
  {
   "cell_type": "code",
   "execution_count": 8,
   "metadata": {},
   "outputs": [
    {
     "data": {
      "text/latex": [
       "$\\displaystyle \\left[\\begin{matrix}\\left(- 450.0 \\sin{\\left(θ[0] - 1 \\right)} + 300.0 \\cos{\\left(3 θ[0] - θ[1]^{2} \\right)}\\right) \\left(2 \\sin{\\left(θ[0] - 1 \\right)} - 12.0 \\cos{\\left(3 θ[0] - θ[1]^{2} \\right)}\\right) + \\left(- 50.0 \\sin{\\left(θ[0] - 1 \\right)} + 900.0 \\cos{\\left(3 θ[0] - θ[1]^{2} \\right)}\\right) \\left(0.5 \\sin{\\left(θ[0] - 1 \\right)} - 1.0 \\cos{\\left(3 θ[0] - θ[1]^{2} \\right)} + 1.0\\right) + \\left(- 900.0 \\sin{\\left(3 θ[0] - θ[1]^{2} \\right)} - 450.0 \\cos{\\left(θ[0] - 1 \\right)}\\right) \\left(- 4.0 \\sin{\\left(3 θ[0] - θ[1]^{2} \\right)} - 2 \\cos{\\left(θ[0] - 1 \\right)}\\right) + \\left(3.0 \\sin{\\left(3 θ[0] - θ[1]^{2} \\right)} + 0.5 \\cos{\\left(θ[0] - 1 \\right)}\\right) \\left(300.0 \\sin{\\left(3 θ[0] - θ[1]^{2} \\right)} + 50.0 \\cos{\\left(θ[0] - 1 \\right)}\\right) + 1.0 & 3600.0 θ[1] \\left(- \\sin{\\left(θ[0] - 1 \\right)} + 0.666666666666667 \\cos{\\left(3 θ[0] - θ[1]^{2} \\right)}\\right) \\cos{\\left(3 θ[0] - θ[1]^{2} \\right)} + 1200.0 θ[1] \\left(- 2.0 \\sin{\\left(3 θ[0] - θ[1]^{2} \\right)} - \\cos{\\left(θ[0] - 1 \\right)}\\right) \\sin{\\left(3 θ[0] - θ[1]^{2} \\right)} - 200.0 θ[1] \\left(3.0 \\sin{\\left(3 θ[0] - θ[1]^{2} \\right)} + 0.5 \\cos{\\left(θ[0] - 1 \\right)}\\right) \\sin{\\left(3 θ[0] - θ[1]^{2} \\right)} - 600.0 θ[1] \\left(0.5 \\sin{\\left(θ[0] - 1 \\right)} - 1.0 \\cos{\\left(3 θ[0] - θ[1]^{2} \\right)} + 1.0\\right) \\cos{\\left(3 θ[0] - θ[1]^{2} \\right)}\\\\8.0 θ[1] \\left(- 450.0 \\sin{\\left(θ[0] - 1 \\right)} + 300.0 \\cos{\\left(3 θ[0] - θ[1]^{2} \\right)}\\right) \\cos{\\left(3 θ[0] - θ[1]^{2} \\right)} + 600.0 θ[1] \\left(- 4.0 \\sin{\\left(3 θ[0] - θ[1]^{2} \\right)} - 2 \\cos{\\left(θ[0] - 1 \\right)}\\right) \\sin{\\left(3 θ[0] - θ[1]^{2} \\right)} - 2.0 θ[1] \\left(300.0 \\sin{\\left(3 θ[0] - θ[1]^{2} \\right)} + 50.0 \\cos{\\left(θ[0] - 1 \\right)}\\right) \\sin{\\left(3 θ[0] - θ[1]^{2} \\right)} - 600.0 θ[1] \\left(0.5 \\sin{\\left(θ[0] - 1 \\right)} - 1.0 \\cos{\\left(3 θ[0] - θ[1]^{2} \\right)} + 1.0\\right) \\cos{\\left(3 θ[0] - θ[1]^{2} \\right)} & - 2400.0 θ[1]^{2} \\left(- \\sin{\\left(θ[0] - 1 \\right)} + 0.666666666666667 \\cos{\\left(3 θ[0] - θ[1]^{2} \\right)}\\right) \\cos{\\left(3 θ[0] - θ[1]^{2} \\right)} + 400.0 θ[1]^{2} \\left(0.5 \\sin{\\left(θ[0] - 1 \\right)} - 1.0 \\cos{\\left(3 θ[0] - θ[1]^{2} \\right)} + 1.0\\right) \\cos{\\left(3 θ[0] - θ[1]^{2} \\right)} + 2000.0 θ[1]^{2} \\sin^{2}{\\left(3 θ[0] - θ[1]^{2} \\right)} + \\left(- 1200.0 \\sin{\\left(θ[0] - 1 \\right)} + 800.0 \\cos{\\left(3 θ[0] - θ[1]^{2} \\right)}\\right) \\sin{\\left(3 θ[0] - θ[1]^{2} \\right)} + \\left(- 100.0 \\sin{\\left(θ[0] - 1 \\right)} + 200.0 \\cos{\\left(3 θ[0] - θ[1]^{2} \\right)} - 200.0\\right) \\sin{\\left(3 θ[0] - θ[1]^{2} \\right)} + 1.0\\end{matrix}\\right]$"
      ],
      "text/plain": [
       "[[(-450.0*sin(θ[0] - 1) + 300.0*cos(3*θ[0] - θ[1]**2))*(2*sin(θ[0] - 1) - 12.0*cos(3*θ[0] - θ[1]**2)) + (-50.0*sin(θ[0] - 1) + 900.0*cos(3*θ[0] - θ[1]**2))*(0.5*sin(θ[0] - 1) - 1.0*cos(3*θ[0] - θ[1]**2) + 1.0) + (-900.0*sin(3*θ[0] - θ[1]**2) - 450.0*cos(θ[0] - 1))*(-4.0*sin(3*θ[0] - θ[1]**2) - 2*cos(θ[0] - 1)) + (3.0*sin(3*θ[0] - θ[1]**2) + 0.5*cos(θ[0] - 1))*(300.0*sin(3*θ[0] - θ[1]**2) + 50.0*cos(θ[0] - 1)) + 1.0, 3600.0*θ[1]*(-sin(θ[0] - 1) + 0.666666666666667*cos(3*θ[0] - θ[1]**2))*cos(3*θ[0] - θ[1]**2) + 1200.0*θ[1]*(-2.0*sin(3*θ[0] - θ[1]**2) - cos(θ[0] - 1))*sin(3*θ[0] - θ[1]**2) - 200.0*θ[1]*(3.0*sin(3*θ[0] - θ[1]**2) + 0.5*cos(θ[0] - 1))*sin(3*θ[0] - θ[1]**2) - 600.0*θ[1]*(0.5*sin(θ[0] - 1) - 1.0*cos(3*θ[0] - θ[1]**2) + 1.0)*cos(3*θ[0] - θ[1]**2)], [8.0*θ[1]*(-450.0*sin(θ[0] - 1) + 300.0*cos(3*θ[0] - θ[1]**2))*cos(3*θ[0] - θ[1]**2) + 600.0*θ[1]*(-4.0*sin(3*θ[0] - θ[1]**2) - 2*cos(θ[0] - 1))*sin(3*θ[0] - θ[1]**2) - 2.0*θ[1]*(300.0*sin(3*θ[0] - θ[1]**2) + 50.0*cos(θ[0] - 1))*sin(3*θ[0] - θ[1]**2) - 600.0*θ[1]*(0.5*sin(θ[0] - 1) - 1.0*cos(3*θ[0] - θ[1]**2) + 1.0)*cos(3*θ[0] - θ[1]**2), -2400.0*θ[1]**2*(-sin(θ[0] - 1) + 0.666666666666667*cos(3*θ[0] - θ[1]**2))*cos(3*θ[0] - θ[1]**2) + 400.0*θ[1]**2*(0.5*sin(θ[0] - 1) - 1.0*cos(3*θ[0] - θ[1]**2) + 1.0)*cos(3*θ[0] - θ[1]**2) + 2000.0*θ[1]**2*sin(3*θ[0] - θ[1]**2)**2 + (-1200.0*sin(θ[0] - 1) + 800.0*cos(3*θ[0] - θ[1]**2))*sin(3*θ[0] - θ[1]**2) + (-100.0*sin(θ[0] - 1) + 200.0*cos(3*θ[0] - θ[1]**2) - 200.0)*sin(3*θ[0] - θ[1]**2) + 1.0]]"
      ]
     },
     "execution_count": 8,
     "metadata": {},
     "output_type": "execute_result"
    }
   ],
   "source": [
    "symnum.sympy_hessian(neg_log_dens)(θ)"
   ]
  },
  {
   "cell_type": "markdown",
   "metadata": {},
   "source": [
    "## NumPy function generation"
   ]
  },
  {
   "cell_type": "code",
   "execution_count": 9,
   "metadata": {},
   "outputs": [],
   "source": [
    "θ_arr = np.array([0.2, 1.1])"
   ]
  },
  {
   "cell_type": "code",
   "execution_count": 10,
   "metadata": {},
   "outputs": [
    {
     "data": {
      "text/plain": [
       "array([ 1.17832606, -3.79136431])"
      ]
     },
     "execution_count": 10,
     "metadata": {},
     "output_type": "execute_result"
    }
   ],
   "source": [
    "symnum.numpify(2)(forward_func)(θ_arr)"
   ]
  },
  {
   "cell_type": "code",
   "execution_count": 11,
   "metadata": {},
   "outputs": [
    {
     "data": {
      "text/plain": [
       "720.9371751890193"
      ]
     },
     "execution_count": 11,
     "metadata": {},
     "output_type": "execute_result"
    }
   ],
   "source": [
    "symnum.numpify(2)(neg_log_dens)(θ_arr)"
   ]
  },
  {
   "cell_type": "code",
   "execution_count": 12,
   "metadata": {},
   "outputs": [
    {
     "data": {
      "text/plain": [
       "array([ 535.36397107, -977.0322501 ])"
      ]
     },
     "execution_count": 12,
     "metadata": {},
     "output_type": "execute_result"
    }
   ],
   "source": [
    "grad_neg_log_dens = symnum.numpy_grad(neg_log_dens, 2)\n",
    "grad_neg_log_dens(θ_arr)"
   ]
  },
  {
   "cell_type": "code",
   "execution_count": 13,
   "metadata": {},
   "outputs": [
    {
     "data": {
      "text/plain": [
       "array([[-6177.30148469,  3686.23777978],\n",
       "       [ 3686.23777978, -3172.9077026 ]])"
      ]
     },
     "execution_count": 13,
     "metadata": {},
     "output_type": "execute_result"
    }
   ],
   "source": [
    "hess_neg_log_dens = symnum.numpy_hessian(neg_log_dens, 2)\n",
    "hess_neg_log_dens(θ_arr)"
   ]
  },
  {
   "cell_type": "code",
   "execution_count": 14,
   "metadata": {},
   "outputs": [
    {
     "data": {
      "text/plain": [
       "array([ 3.03591481e+08, -2.17976284e+08])"
      ]
     },
     "execution_count": 14,
     "metadata": {},
     "output_type": "execute_result"
    }
   ],
   "source": [
    "mtp_neg_log_dens = symnum.numpy_mtp(neg_log_dens, 2)\n",
    "mtp_neg_log_dens(θ_arr)(hess_neg_log_dens(θ_arr))"
   ]
  },
  {
   "cell_type": "code",
   "execution_count": 15,
   "metadata": {},
   "outputs": [
    {
     "data": {
      "text/plain": [
       "array([[ 1.37024903, -1.26030841],\n",
       "       [-1.34708463,  2.52061682]])"
      ]
     },
     "execution_count": 15,
     "metadata": {},
     "output_type": "execute_result"
    }
   ],
   "source": [
    "jacob_forward_func = symnum.numpy_jacobian(forward_func, 2)\n",
    "jacob_forward_func(θ_arr)"
   ]
  },
  {
   "cell_type": "code",
   "execution_count": 16,
   "metadata": {},
   "outputs": [
    {
     "data": {
      "text/plain": [
       "array([-67.46233454,  54.20591147])"
      ]
     },
     "execution_count": 16,
     "metadata": {},
     "output_type": "execute_result"
    }
   ],
   "source": [
    "mhp_forward_func = symnum.numpy_mhp(forward_func, 2)\n",
    "mhp_forward_func(θ_arr)(jacob_forward_func(θ_arr))"
   ]
  },
  {
   "cell_type": "markdown",
   "metadata": {},
   "source": [
    "## Compatibility with `multiprocessing`"
   ]
  },
  {
   "cell_type": "code",
   "execution_count": 17,
   "metadata": {},
   "outputs": [],
   "source": [
    "pool = multiprocessing.Pool(4)"
   ]
  },
  {
   "cell_type": "code",
   "execution_count": 18,
   "metadata": {},
   "outputs": [
    {
     "data": {
      "text/plain": [
       "[array([ 535.36397107, -977.0322501 ]),\n",
       " array([ 309.46173134, -921.2782253 ]),\n",
       " array([ 137.12445164, -865.25332766]),\n",
       " array([  22.61966799, -818.58457381]),\n",
       " array([ -36.90904075, -785.80345863]),\n",
       " array([ -49.75261632, -765.70482534]),\n",
       " array([ -28.37869342, -750.84259881]),\n",
       " array([  11.35729628, -726.98047844])]"
      ]
     },
     "execution_count": 18,
     "metadata": {},
     "output_type": "execute_result"
    }
   ],
   "source": [
    "pool.map(grad_neg_log_dens, [θ_arr + 0.1 * i for i in range(8)])"
   ]
  }
 ],
 "metadata": {
  "kernelspec": {
   "display_name": "Python 3",
   "language": "python",
   "name": "python3"
  },
  "language_info": {
   "codemirror_mode": {
    "name": "ipython",
    "version": 3
   },
   "file_extension": ".py",
   "mimetype": "text/x-python",
   "name": "python",
   "nbconvert_exporter": "python",
   "pygments_lexer": "ipython3",
   "version": "3.7.6"
  }
 },
 "nbformat": 4,
 "nbformat_minor": 4
}

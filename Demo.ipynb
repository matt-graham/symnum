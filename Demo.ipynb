{
 "cells": [
  {
   "cell_type": "code",
   "execution_count": 1,
   "metadata": {},
   "outputs": [],
   "source": [
    "import sympy as sym\n",
    "import symnum\n",
    "import symnum.numpy as snp\n",
    "import numpy as np\n",
    "import multiprocessing"
   ]
  },
  {
   "cell_type": "code",
   "execution_count": 2,
   "metadata": {},
   "outputs": [],
   "source": [
    "y = snp.array([1, 0])\n",
    "σ = 1\n",
    "\n",
    "def forward_func(x):\n",
    "    return snp.array([[1, -1], [-2, 2]]) @ snp.array(\n",
    "        [snp.cos(-x[1]**2 + 3 * x[0]), snp.sin(x[0] - 1)])\n",
    "\n",
    "def neg_log_dens(x):\n",
    "    return (\n",
    "        snp.sum((y - forward_func(x))**2 / σ**2) + \n",
    "        snp.sum(x**2)) / 2"
   ]
  },
  {
   "cell_type": "markdown",
   "metadata": {},
   "source": [
    "## Symbolic evaluation and derivatives"
   ]
  },
  {
   "cell_type": "code",
   "execution_count": 3,
   "metadata": {},
   "outputs": [],
   "source": [
    "x = symnum.named_array('x', 2)"
   ]
  },
  {
   "cell_type": "code",
   "execution_count": 4,
   "metadata": {},
   "outputs": [
    {
     "data": {
      "text/latex": [
       "$\\displaystyle \\left[\\begin{matrix}- \\sin{\\left(x[0] - 1 \\right)} + \\cos{\\left(3 x[0] - x[1]^{2} \\right)} & 2 \\sin{\\left(x[0] - 1 \\right)} - 2 \\cos{\\left(3 x[0] - x[1]^{2} \\right)}\\end{matrix}\\right]$"
      ],
      "text/plain": [
       "[-sin(x[0] - 1) + cos(3*x[0] - x[1]**2), 2*sin(x[0] - 1) - 2*cos(3*x[0] - x[1]**2)]"
      ]
     },
     "execution_count": 4,
     "metadata": {},
     "output_type": "execute_result"
    }
   ],
   "source": [
    "forward_func(x)"
   ]
  },
  {
   "cell_type": "code",
   "execution_count": 5,
   "metadata": {},
   "outputs": [
    {
     "data": {
      "text/latex": [
       "$\\displaystyle \\left[\\begin{matrix}- 3 \\sin{\\left(3 x[0] - x[1]^{2} \\right)} - \\cos{\\left(x[0] - 1 \\right)} & 2 x[1] \\sin{\\left(3 x[0] - x[1]^{2} \\right)}\\\\6 \\sin{\\left(3 x[0] - x[1]^{2} \\right)} + 2 \\cos{\\left(x[0] - 1 \\right)} & - 4 x[1] \\sin{\\left(3 x[0] - x[1]^{2} \\right)}\\end{matrix}\\right]$"
      ],
      "text/plain": [
       "[[-3*sin(3*x[0] - x[1]**2) - cos(x[0] - 1), 2*x[1]*sin(3*x[0] - x[1]**2)], [6*sin(3*x[0] - x[1]**2) + 2*cos(x[0] - 1), -4*x[1]*sin(3*x[0] - x[1]**2)]]"
      ]
     },
     "execution_count": 5,
     "metadata": {},
     "output_type": "execute_result"
    }
   ],
   "source": [
    "symnum.sympy_jacobian(forward_func)(x)"
   ]
  },
  {
   "cell_type": "code",
   "execution_count": 6,
   "metadata": {},
   "outputs": [
    {
     "data": {
      "text/latex": [
       "$\\displaystyle \\frac{x[0]^{2}}{2} + \\frac{x[1]^{2}}{2} + \\frac{\\left(- 2 \\sin{\\left(x[0] - 1 \\right)} + 2 \\cos{\\left(3 x[0] - x[1]^{2} \\right)}\\right)^{2}}{2} + \\frac{\\left(\\sin{\\left(x[0] - 1 \\right)} - \\cos{\\left(3 x[0] - x[1]^{2} \\right)} + 1\\right)^{2}}{2}$"
      ],
      "text/plain": [
       "x[0]**2/2 + x[1]**2/2 + (-2*sin(x[0] - 1) + 2*cos(3*x[0] - x[1]**2))**2/2 + (sin(x[0] - 1) - cos(3*x[0] - x[1]**2) + 1)**2/2"
      ]
     },
     "execution_count": 6,
     "metadata": {},
     "output_type": "execute_result"
    }
   ],
   "source": [
    "neg_log_dens(x)"
   ]
  },
  {
   "cell_type": "code",
   "execution_count": 7,
   "metadata": {},
   "outputs": [
    {
     "data": {
      "text/latex": [
       "$\\displaystyle \\left[\\begin{matrix}x[0] + \\frac{\\left(- 2 \\sin{\\left(x[0] - 1 \\right)} + 2 \\cos{\\left(3 x[0] - x[1]^{2} \\right)}\\right) \\left(- 12 \\sin{\\left(3 x[0] - x[1]^{2} \\right)} - 4 \\cos{\\left(x[0] - 1 \\right)}\\right)}{2} + \\frac{\\left(6 \\sin{\\left(3 x[0] - x[1]^{2} \\right)} + 2 \\cos{\\left(x[0] - 1 \\right)}\\right) \\left(\\sin{\\left(x[0] - 1 \\right)} - \\cos{\\left(3 x[0] - x[1]^{2} \\right)} + 1\\right)}{2} & 4 x[1] \\left(- 2 \\sin{\\left(x[0] - 1 \\right)} + 2 \\cos{\\left(3 x[0] - x[1]^{2} \\right)}\\right) \\sin{\\left(3 x[0] - x[1]^{2} \\right)} - 2 x[1] \\left(\\sin{\\left(x[0] - 1 \\right)} - \\cos{\\left(3 x[0] - x[1]^{2} \\right)} + 1\\right) \\sin{\\left(3 x[0] - x[1]^{2} \\right)} + x[1]\\end{matrix}\\right]$"
      ],
      "text/plain": [
       "[x[0] + (-2*sin(x[0] - 1) + 2*cos(3*x[0] - x[1]**2))*(-12*sin(3*x[0] - x[1]**2) - 4*cos(x[0] - 1))/2 + (6*sin(3*x[0] - x[1]**2) + 2*cos(x[0] - 1))*(sin(x[0] - 1) - cos(3*x[0] - x[1]**2) + 1)/2, 4*x[1]*(-2*sin(x[0] - 1) + 2*cos(3*x[0] - x[1]**2))*sin(3*x[0] - x[1]**2) - 2*x[1]*(sin(x[0] - 1) - cos(3*x[0] - x[1]**2) + 1)*sin(3*x[0] - x[1]**2) + x[1]]"
      ]
     },
     "execution_count": 7,
     "metadata": {},
     "output_type": "execute_result"
    }
   ],
   "source": [
    "symnum.sympy_grad(neg_log_dens)(x)"
   ]
  },
  {
   "cell_type": "code",
   "execution_count": 8,
   "metadata": {},
   "outputs": [
    {
     "data": {
      "text/latex": [
       "$\\displaystyle \\left[\\begin{matrix}\\left(- 2 \\sin{\\left(x[0] - 1 \\right)} + 2 \\cos{\\left(3 x[0] - x[1]^{2} \\right)}\\right) \\left(2 \\sin{\\left(x[0] - 1 \\right)} - 18 \\cos{\\left(3 x[0] - x[1]^{2} \\right)}\\right) + \\left(- \\sin{\\left(x[0] - 1 \\right)} + 9 \\cos{\\left(3 x[0] - x[1]^{2} \\right)}\\right) \\left(\\sin{\\left(x[0] - 1 \\right)} - \\cos{\\left(3 x[0] - x[1]^{2} \\right)} + 1\\right) + \\left(- 6 \\sin{\\left(3 x[0] - x[1]^{2} \\right)} - 2 \\cos{\\left(x[0] - 1 \\right)}\\right)^{2} + \\left(3 \\sin{\\left(3 x[0] - x[1]^{2} \\right)} + \\cos{\\left(x[0] - 1 \\right)}\\right)^{2} + 1 & 12 x[1] \\left(- 2 \\sin{\\left(x[0] - 1 \\right)} + 2 \\cos{\\left(3 x[0] - x[1]^{2} \\right)}\\right) \\cos{\\left(3 x[0] - x[1]^{2} \\right)} + 4 x[1] \\left(- 6 \\sin{\\left(3 x[0] - x[1]^{2} \\right)} - 2 \\cos{\\left(x[0] - 1 \\right)}\\right) \\sin{\\left(3 x[0] - x[1]^{2} \\right)} - 2 x[1] \\left(3 \\sin{\\left(3 x[0] - x[1]^{2} \\right)} + \\cos{\\left(x[0] - 1 \\right)}\\right) \\sin{\\left(3 x[0] - x[1]^{2} \\right)} - 6 x[1] \\left(\\sin{\\left(x[0] - 1 \\right)} - \\cos{\\left(3 x[0] - x[1]^{2} \\right)} + 1\\right) \\cos{\\left(3 x[0] - x[1]^{2} \\right)}\\\\12 x[1] \\left(- 2 \\sin{\\left(x[0] - 1 \\right)} + 2 \\cos{\\left(3 x[0] - x[1]^{2} \\right)}\\right) \\cos{\\left(3 x[0] - x[1]^{2} \\right)} + 4 x[1] \\left(- 6 \\sin{\\left(3 x[0] - x[1]^{2} \\right)} - 2 \\cos{\\left(x[0] - 1 \\right)}\\right) \\sin{\\left(3 x[0] - x[1]^{2} \\right)} - 2 x[1] \\left(3 \\sin{\\left(3 x[0] - x[1]^{2} \\right)} + \\cos{\\left(x[0] - 1 \\right)}\\right) \\sin{\\left(3 x[0] - x[1]^{2} \\right)} - 6 x[1] \\left(\\sin{\\left(x[0] - 1 \\right)} - \\cos{\\left(3 x[0] - x[1]^{2} \\right)} + 1\\right) \\cos{\\left(3 x[0] - x[1]^{2} \\right)} & - 8 x[1]^{2} \\left(- 2 \\sin{\\left(x[0] - 1 \\right)} + 2 \\cos{\\left(3 x[0] - x[1]^{2} \\right)}\\right) \\cos{\\left(3 x[0] - x[1]^{2} \\right)} + 4 x[1]^{2} \\left(\\sin{\\left(x[0] - 1 \\right)} - \\cos{\\left(3 x[0] - x[1]^{2} \\right)} + 1\\right) \\cos{\\left(3 x[0] - x[1]^{2} \\right)} + 20 x[1]^{2} \\sin^{2}{\\left(3 x[0] - x[1]^{2} \\right)} + \\left(- 8 \\sin{\\left(x[0] - 1 \\right)} + 8 \\cos{\\left(3 x[0] - x[1]^{2} \\right)}\\right) \\sin{\\left(3 x[0] - x[1]^{2} \\right)} + \\left(- 2 \\sin{\\left(x[0] - 1 \\right)} + 2 \\cos{\\left(3 x[0] - x[1]^{2} \\right)} - 2\\right) \\sin{\\left(3 x[0] - x[1]^{2} \\right)} + 1\\end{matrix}\\right]$"
      ],
      "text/plain": [
       "[[(-2*sin(x[0] - 1) + 2*cos(3*x[0] - x[1]**2))*(2*sin(x[0] - 1) - 18*cos(3*x[0] - x[1]**2)) + (-sin(x[0] - 1) + 9*cos(3*x[0] - x[1]**2))*(sin(x[0] - 1) - cos(3*x[0] - x[1]**2) + 1) + (-6*sin(3*x[0] - x[1]**2) - 2*cos(x[0] - 1))**2 + (3*sin(3*x[0] - x[1]**2) + cos(x[0] - 1))**2 + 1, 12*x[1]*(-2*sin(x[0] - 1) + 2*cos(3*x[0] - x[1]**2))*cos(3*x[0] - x[1]**2) + 4*x[1]*(-6*sin(3*x[0] - x[1]**2) - 2*cos(x[0] - 1))*sin(3*x[0] - x[1]**2) - 2*x[1]*(3*sin(3*x[0] - x[1]**2) + cos(x[0] - 1))*sin(3*x[0] - x[1]**2) - 6*x[1]*(sin(x[0] - 1) - cos(3*x[0] - x[1]**2) + 1)*cos(3*x[0] - x[1]**2)], [12*x[1]*(-2*sin(x[0] - 1) + 2*cos(3*x[0] - x[1]**2))*cos(3*x[0] - x[1]**2) + 4*x[1]*(-6*sin(3*x[0] - x[1]**2) - 2*cos(x[0] - 1))*sin(3*x[0] - x[1]**2) - 2*x[1]*(3*sin(3*x[0] - x[1]**2) + cos(x[0] - 1))*sin(3*x[0] - x[1]**2) - 6*x[1]*(sin(x[0] - 1) - cos(3*x[0] - x[1]**2) + 1)*cos(3*x[0] - x[1]**2), -8*x[1]**2*(-2*sin(x[0] - 1) + 2*cos(3*x[0] - x[1]**2))*cos(3*x[0] - x[1]**2) + 4*x[1]**2*(sin(x[0] - 1) - cos(3*x[0] - x[1]**2) + 1)*cos(3*x[0] - x[1]**2) + 20*x[1]**2*sin(3*x[0] - x[1]**2)**2 + (-8*sin(x[0] - 1) + 8*cos(3*x[0] - x[1]**2))*sin(3*x[0] - x[1]**2) + (-2*sin(x[0] - 1) + 2*cos(3*x[0] - x[1]**2) - 2)*sin(3*x[0] - x[1]**2) + 1]]"
      ]
     },
     "execution_count": 8,
     "metadata": {},
     "output_type": "execute_result"
    }
   ],
   "source": [
    "symnum.sympy_hessian(neg_log_dens)(x)"
   ]
  },
  {
   "cell_type": "markdown",
   "metadata": {},
   "source": [
    "## NumPy function generation"
   ]
  },
  {
   "cell_type": "code",
   "execution_count": 9,
   "metadata": {},
   "outputs": [],
   "source": [
    "x_np = np.array([0.2, 1.1])"
   ]
  },
  {
   "cell_type": "code",
   "execution_count": 10,
   "metadata": {},
   "outputs": [
    {
     "data": {
      "text/plain": [
       "array([ 1.53700411, -3.07400822])"
      ]
     },
     "execution_count": 10,
     "metadata": {},
     "output_type": "execute_result"
    }
   ],
   "source": [
    "symnum.numpify(2)(forward_func)(x_np)"
   ]
  },
  {
   "cell_type": "code",
   "execution_count": 11,
   "metadata": {},
   "outputs": [
    {
     "data": {
      "text/plain": [
       "5.493949967002545"
      ]
     },
     "execution_count": 11,
     "metadata": {},
     "output_type": "execute_result"
    }
   ],
   "source": [
    "symnum.numpify(2)(neg_log_dens)(x_np)"
   ]
  },
  {
   "cell_type": "code",
   "execution_count": 12,
   "metadata": {},
   "outputs": [
    {
     "data": {
      "text/plain": [
       "array([ 7.03139355, -7.32518763])"
      ]
     },
     "execution_count": 12,
     "metadata": {},
     "output_type": "execute_result"
    }
   ],
   "source": [
    "grad_neg_log_dens = symnum.numpy_grad(neg_log_dens, 2)\n",
    "grad_neg_log_dens(x_np)"
   ]
  },
  {
   "cell_type": "code",
   "execution_count": 13,
   "metadata": {},
   "outputs": [
    {
     "data": {
      "text/plain": [
       "array([[-47.88846093,  29.72428278],\n",
       "       [ 29.72428278, -25.23749599]])"
      ]
     },
     "execution_count": 13,
     "metadata": {},
     "output_type": "execute_result"
    }
   ],
   "source": [
    "hess_neg_log_dens = symnum.numpy_hessian(neg_log_dens, 2)\n",
    "hess_neg_log_dens(x_np)"
   ]
  },
  {
   "cell_type": "code",
   "execution_count": 14,
   "metadata": {},
   "outputs": [
    {
     "data": {
      "text/plain": [
       "array([ 24450.22234805, -17321.69277479])"
      ]
     },
     "execution_count": 14,
     "metadata": {},
     "output_type": "execute_result"
    }
   ],
   "source": [
    "mtp_neg_log_dens = symnum.numpy_mtp(neg_log_dens, 2)\n",
    "mtp_neg_log_dens(x_np)(hess_neg_log_dens(x_np))"
   ]
  },
  {
   "cell_type": "code",
   "execution_count": 15,
   "metadata": {},
   "outputs": [
    {
     "data": {
      "text/plain": [
       "array([[ 1.02189567, -1.26030841],\n",
       "       [-2.04379134,  2.52061682]])"
      ]
     },
     "execution_count": 15,
     "metadata": {},
     "output_type": "execute_result"
    }
   ],
   "source": [
    "jacob_forward_func = symnum.numpy_jacobian(forward_func, 2)\n",
    "jacob_forward_func(x_np)"
   ]
  },
  {
   "cell_type": "code",
   "execution_count": 16,
   "metadata": {},
   "outputs": [
    {
     "data": {
      "text/plain": [
       "array([-75.4463863 ,  59.85934877])"
      ]
     },
     "execution_count": 16,
     "metadata": {},
     "output_type": "execute_result"
    }
   ],
   "source": [
    "mhp_forward_func = symnum.numpy_mhp(forward_func, 2)\n",
    "mhp_forward_func(x_np)(jacob_forward_func(x_np))"
   ]
  },
  {
   "cell_type": "markdown",
   "metadata": {},
   "source": [
    "## Compatibility with `multiprocessing`"
   ]
  },
  {
   "cell_type": "code",
   "execution_count": 17,
   "metadata": {},
   "outputs": [],
   "source": [
    "pool = multiprocessing.Pool(4)"
   ]
  },
  {
   "cell_type": "code",
   "execution_count": 18,
   "metadata": {},
   "outputs": [
    {
     "data": {
      "text/plain": [
       "[array([ 7.03139355, -7.32518763]),\n",
       " array([ 5.36166701, -6.83240645]),\n",
       " array([ 4.05701734, -6.32916535]),\n",
       " array([ 3.1698736 , -5.90591748]),\n",
       " array([ 2.69164583, -5.61080858]),\n",
       " array([ 2.56667444, -5.4433092 ]),\n",
       " array([ 2.70213256, -5.34858144]),\n",
       " array([ 2.97340715, -5.21063384])]"
      ]
     },
     "execution_count": 18,
     "metadata": {},
     "output_type": "execute_result"
    }
   ],
   "source": [
    "pool.map(grad_neg_log_dens, [x_np + 0.1 * i for i in range(8)])"
   ]
  }
 ],
 "metadata": {
  "kernelspec": {
   "display_name": "Python 3",
   "language": "python",
   "name": "python3"
  },
  "language_info": {
   "codemirror_mode": {
    "name": "ipython",
    "version": 3
   },
   "file_extension": ".py",
   "mimetype": "text/x-python",
   "name": "python",
   "nbconvert_exporter": "python",
   "pygments_lexer": "ipython3",
   "version": "3.7.6"
  }
 },
 "nbformat": 4,
 "nbformat_minor": 4
}
